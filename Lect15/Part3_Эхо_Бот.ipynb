{
 "cells": [
  {
   "cell_type": "markdown",
   "id": "bad6f98d",
   "metadata": {},
   "source": [
    "# Пример 1. Эхо-бот"
   ]
  },
  {
   "cell_type": "code",
   "execution_count": 2,
   "id": "b85f579a",
   "metadata": {},
   "outputs": [
    {
     "name": "stdout",
     "output_type": "stream",
     "text": [
      "Collecting pyTelegramBotAPI\n",
      "  Downloading pyTelegramBotAPI-4.8.0.tar.gz (217 kB)\n",
      "Requirement already satisfied: requests in c:\\users\\mbbur\\anaconda3\\lib\\site-packages (from pyTelegramBotAPI) (2.27.1)\n",
      "Requirement already satisfied: urllib3<1.27,>=1.21.1 in c:\\users\\mbbur\\anaconda3\\lib\\site-packages (from requests->pyTelegramBotAPI) (1.26.9)\n",
      "Requirement already satisfied: idna<4,>=2.5 in c:\\users\\mbbur\\anaconda3\\lib\\site-packages (from requests->pyTelegramBotAPI) (3.3)\n",
      "Requirement already satisfied: certifi>=2017.4.17 in c:\\users\\mbbur\\anaconda3\\lib\\site-packages (from requests->pyTelegramBotAPI) (2021.10.8)\n",
      "Requirement already satisfied: charset-normalizer~=2.0.0 in c:\\users\\mbbur\\anaconda3\\lib\\site-packages (from requests->pyTelegramBotAPI) (2.0.4)\n",
      "Building wheels for collected packages: pyTelegramBotAPI\n",
      "  Building wheel for pyTelegramBotAPI (setup.py): started\n",
      "  Building wheel for pyTelegramBotAPI (setup.py): finished with status 'done'\n",
      "  Created wheel for pyTelegramBotAPI: filename=pyTelegramBotAPI-4.8.0-py3-none-any.whl size=200126 sha256=56cd7c1a160a8da4887c67f918a10b0f54c3f5a6355f4c0aa9c4a786cb7d5ff3\n",
      "  Stored in directory: c:\\users\\mbbur\\appdata\\local\\pip\\cache\\wheels\\48\\d2\\c0\\b6f5a4531b8a4e49546eca52d76521deb9be14a156da42effe\n",
      "Successfully built pyTelegramBotAPI\n",
      "Installing collected packages: pyTelegramBotAPI\n",
      "Successfully installed pyTelegramBotAPI-4.8.0\n"
     ]
    }
   ],
   "source": [
    "!pip install pyTelegramBotAPI"
   ]
  },
  {
   "cell_type": "code",
   "execution_count": 3,
   "id": "d8d00402",
   "metadata": {},
   "outputs": [],
   "source": [
    "import telebot"
   ]
  },
  {
   "cell_type": "code",
   "execution_count": 4,
   "id": "4d379622",
   "metadata": {},
   "outputs": [],
   "source": [
    "bot = telebot.TeleBot('5811027124:AAHUhP-kbgBLLARKHe_VlduTJ71wYyidKwg')"
   ]
  },
  {
   "cell_type": "code",
   "execution_count": 5,
   "id": "1425a34d",
   "metadata": {},
   "outputs": [],
   "source": [
    "@bot.message_handler(commands=[\"start\"])\n",
    "def start(m):\n",
    "    bot.send_message(m.chat.id, 'Я на связи. Напиши мне что-нибудь )')"
   ]
  },
  {
   "cell_type": "code",
   "execution_count": 6,
   "id": "37e5554a",
   "metadata": {},
   "outputs": [],
   "source": [
    "@bot.message_handler(content_types=[\"text\"])\n",
    "def handle_text(message):\n",
    "    bot.send_message(message.chat.id, 'Вы написали: ' + message.text)"
   ]
  },
  {
   "cell_type": "code",
   "execution_count": 7,
   "id": "b9045066",
   "metadata": {},
   "outputs": [],
   "source": [
    "bot.polling(none_stop=True, interval=0)"
   ]
  },
  {
   "cell_type": "code",
   "execution_count": null,
   "id": "e7fb97d1",
   "metadata": {},
   "outputs": [],
   "source": []
  }
 ],
 "metadata": {
  "kernelspec": {
   "display_name": "Python 3 (ipykernel)",
   "language": "python",
   "name": "python3"
  },
  "language_info": {
   "codemirror_mode": {
    "name": "ipython",
    "version": 3
   },
   "file_extension": ".py",
   "mimetype": "text/x-python",
   "name": "python",
   "nbconvert_exporter": "python",
   "pygments_lexer": "ipython3",
   "version": "3.9.12"
  }
 },
 "nbformat": 4,
 "nbformat_minor": 5
}
