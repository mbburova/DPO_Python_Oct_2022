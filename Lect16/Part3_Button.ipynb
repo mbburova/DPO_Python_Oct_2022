{
 "cells": [
  {
   "cell_type": "code",
   "execution_count": null,
   "id": "9b08ea58",
   "metadata": {},
   "outputs": [],
   "source": [
    "import telebot\n",
    "from telebot import types # для указание типов\n",
    "# Создаем экземпляр бота\n",
    "bot = telebot.TeleBot('ваш токен')\n",
    "# Функция, обрабатывающая команду /start\n",
    "@bot.message_handler(commands=[\"start\"])\n",
    "def start(m):\n",
    "    bot.send_message(m.chat.id, 'Я на связи. Напиши мне что-нибудь )')\n",
    "# Получение сообщений от юзера\n",
    "\n",
    "@bot.message_handler(content_types=[\"text\"])\n",
    "def default_test(message):\n",
    "    keyboard = types.InlineKeyboardMarkup()\n",
    "    url_button = types.InlineKeyboardButton(text=\"Перейти на Яндекс\", url=\"https://ya.ru\")\n",
    "    keyboard.add(url_button)\n",
    "    bot.send_message(message.chat.id, \"Привет! Нажми на кнопку и перейди в поисковик.\", reply_markup=keyboard)\n",
    "\n",
    "\n",
    "bot.polling(none_stop=True, interval=0)"
   ]
  }
 ],
 "metadata": {
  "kernelspec": {
   "display_name": "Python 3 (ipykernel)",
   "language": "python",
   "name": "python3"
  },
  "language_info": {
   "codemirror_mode": {
    "name": "ipython",
    "version": 3
   },
   "file_extension": ".py",
   "mimetype": "text/x-python",
   "name": "python",
   "nbconvert_exporter": "python",
   "pygments_lexer": "ipython3",
   "version": "3.9.7"
  }
 },
 "nbformat": 4,
 "nbformat_minor": 5
}
