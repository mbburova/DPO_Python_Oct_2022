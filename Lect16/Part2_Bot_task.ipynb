{
 "cells": [
  {
   "cell_type": "markdown",
   "id": "4a2abb8a",
   "metadata": {},
   "source": [
    "## Задание Бот"
   ]
  },
  {
   "cell_type": "markdown",
   "id": "01725b60",
   "metadata": {},
   "source": [
    "Обычно бот служит для ответа на некоторые банальные простые вопросы.\n",
    "\n",
    "Сделайте для начала следующего бота. \n",
    "\n",
    "Если в запросе содержится слово 'дела', то он должен выдать ответ -- 'Хорошо!'\n",
    "\n",
    "Если в запросе содержаться слово 'адрес', то он должен выдать ' г. Казань, ул. Деревни Универсиады,  д. 32'\n",
    "\n",
    "Если в запросе содержаться слово 'телефон', то он должен выдать ' 8909909909'\n",
    "\n",
    "\n",
    "Для того, чтобы сделать это задание необходимо изменить декоратор, точнее функцию внутри декоратора"
   ]
  },
  {
   "cell_type": "code",
   "execution_count": null,
   "id": "8a279b33",
   "metadata": {},
   "outputs": [],
   "source": [
    "# Получение сообщений от юзера\n",
    "\n",
    "@bot.message_handler(content_types=[\"text\"])\n",
    "\n",
    "def handle_text(message):\n",
    "\n",
    "    #Данная функция будет выполнятся при ответе на текстовые сообщения боту.\n",
    "    #Данной функции дается объект message у которого есть свойство text\n",
    "    #С помощью чего можно делать анализ сообщения, на который необходимо ответить\n",
    "    if 'адрес' in message.text:\n",
    "        #Действия при данном слове в тексте сообщения боту\n",
    "        "
   ]
  },
  {
   "cell_type": "code",
   "execution_count": null,
   "id": "8fd63864",
   "metadata": {},
   "outputs": [],
   "source": []
  }
 ],
 "metadata": {
  "kernelspec": {
   "display_name": "Python 3 (ipykernel)",
   "language": "python",
   "name": "python3"
  },
  "language_info": {
   "codemirror_mode": {
    "name": "ipython",
    "version": 3
   },
   "file_extension": ".py",
   "mimetype": "text/x-python",
   "name": "python",
   "nbconvert_exporter": "python",
   "pygments_lexer": "ipython3",
   "version": "3.9.12"
  }
 },
 "nbformat": 4,
 "nbformat_minor": 5
}
