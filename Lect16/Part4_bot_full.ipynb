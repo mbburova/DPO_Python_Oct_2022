{
 "cells": [
  {
   "cell_type": "markdown",
   "metadata": {},
   "source": [
    "##  <center> Пишем своего телеграм-бота :)</center>\n",
    "\n"
   ]
  },
  {
   "cell_type": "code",
   "execution_count": 1,
   "metadata": {},
   "outputs": [],
   "source": [
    "import telebot\n",
    "from telebot import types"
   ]
  },
  {
   "cell_type": "code",
   "execution_count": 2,
   "metadata": {},
   "outputs": [],
   "source": [
    "# подключим токен нашего бота\n",
    "bot = telebot.TeleBot(\"бот\")"
   ]
  },
  {
   "cell_type": "code",
   "execution_count": 3,
   "metadata": {},
   "outputs": [],
   "source": [
    "# напишем, что делать нашему боту при команде старт\n",
    "@bot.message_handler(commands=['start'])\n",
    "def send_keyboard(message, text=\"Привет, чем я могу тебе помочь?\"):\n",
    "    keyboard = types.ReplyKeyboardMarkup(row_width=2)  # наша клавиатура\n",
    "    itembtn1 = types.KeyboardButton('Добавить дело в список') # создадим кнопку\n",
    "    itembtn2 = types.KeyboardButton('Показать список дел')\n",
    "    itembtn3 = types.KeyboardButton('Удалить дело из списка')\n",
    "    itembtn4 = types.KeyboardButton(\"Удалить все дела из списка\")\n",
    "    itembtn5 = types.KeyboardButton('Другое')\n",
    "    itembtn6 = types.KeyboardButton('Пока все!')\n",
    "    keyboard.add(itembtn1, itembtn2) # добавим кнопки 1 и 2 на первый ряд\n",
    "    keyboard.add(itembtn3, itembtn4, itembtn5, itembtn6) # добавим кнопки 3, 4, 5 на второй ряд\n",
    "    # но если кнопок слишком много, они пойдут на след ряд автоматически\n",
    "\n",
    "    # пришлем это все сообщением и запишем выбранный вариант\n",
    "    msg = bot.send_message(message.from_user.id,\n",
    "                     text=text, reply_markup=keyboard)\n",
    "\n",
    "    # отправим этот вариант в функцию, которая его обработает\n",
    "    bot.register_next_step_handler(msg, callback_worker)"
   ]
  },
  {
   "cell_type": "markdown",
   "metadata": {},
   "source": [
    "## Добавляем SQLite"
   ]
  },
  {
   "cell_type": "markdown",
   "metadata": {},
   "source": [
    "Нам нужно, чтобы для каждого обратившегося к ней пользователя наша система хранила список дел. Я предлагаю воспользоваться базой данных SQLite – она быстрая (т.к. обращается напрямую к файлам, без портов и сокетов), легко встраивается в приложения и проста в использовании. Вы можете попробовать подключить более продвинутые MySQL и PostgreSQL, но это потребует чуть больше времени. \n",
    "\n",
    "Можно и просто сохранять все в обычный файлик, но помните, что такой вариант масштабировать не получится – вспомните историю, [как в Великобритании потеряли 16 тысяч положительных тестов на коронавирус.](https://www.kommersant.ru/doc/4520501)"
   ]
  },
  {
   "cell_type": "code",
   "execution_count": 4,
   "metadata": {},
   "outputs": [],
   "source": [
    "import sqlite3"
   ]
  },
  {
   "cell_type": "code",
   "execution_count": 5,
   "metadata": {},
   "outputs": [],
   "source": [
    "# подключаем базу данных\n",
    "conn = sqlite3.connect('planner_hse.db')\n",
    "\n",
    "# курсор для работы с таблицами\n",
    "cursor = conn.cursor()"
   ]
  },
  {
   "cell_type": "code",
   "execution_count": 6,
   "metadata": {},
   "outputs": [],
   "source": [
    "try:\n",
    "    # sql запрос для создания таблицы\n",
    "    query = \"CREATE TABLE \\\"planner\\\" (\\\"ID\\\" INTEGER UNIQUE, \\\"user_id\\\" INTEGER, \\\"plan\\\" TEXT, PRIMARY KEY (\\\"ID\\\"))\"\n",
    "    # исполняем его –> ура, теперь у нас есть таблица, куда будем все сохранять!\n",
    "    cursor.execute(query)\n",
    "except:\n",
    "    pass\n"
   ]
  },
  {
   "cell_type": "markdown",
   "metadata": {},
   "source": [
    "## Пишем функции нашему боту"
   ]
  },
  {
   "cell_type": "markdown",
   "metadata": {},
   "source": [
    "В начале занятия мы сделали 6 кнопок для нашего бота:\n",
    "1. Добавить дело в список\n",
    "2. Показать список дел\n",
    "3. Удалить дело из списка\n",
    "4. Удалить все дела из списка\n",
    "5. Другое\n",
    "6. Пока все!\n",
    "\n",
    "Давайте по очереди напишем функции для каждой из них."
   ]
  },
  {
   "cell_type": "markdown",
   "metadata": {},
   "source": [
    "**Добавить дело в список**"
   ]
  },
  {
   "cell_type": "code",
   "execution_count": 7,
   "metadata": {},
   "outputs": [],
   "source": [
    "# напишем функции для каждого случая\n",
    "# эта добавляет строчку с планом в хранилище\n",
    "def add_plan(msg):\n",
    "    with sqlite3.connect('planner_hse.db') as con:\n",
    "        cursor = con.cursor()\n",
    "        cursor.execute('INSERT INTO planner (user_id, plan) VALUES (?, ?)',\n",
    "                       (msg.from_user.id, msg.text))\n",
    "        con.commit()\n",
    "    bot.send_message(msg.chat.id, 'Запомню :-)')\n",
    "    send_keyboard(msg, \"Чем еще могу помочь?\")"
   ]
  },
  {
   "cell_type": "markdown",
   "metadata": {},
   "source": [
    "**Показать список дел**"
   ]
  },
  {
   "cell_type": "code",
   "execution_count": 8,
   "metadata": {},
   "outputs": [],
   "source": [
    "# просто функция, которая делает нам красивые строки для отправки пользователю\n",
    "def get_plans_string(tasks):\n",
    "    tasks_str = []\n",
    "    for val in list(enumerate(tasks)): # val=(0, (дело1))\n",
    "        tasks_str.append(str(val[0] + 1) + ') ' + val[1][0] + '\\n')\n",
    "    return ''.join(tasks_str)\n",
    "\n",
    "# отправляем пользователю его планы\n",
    "def show_plans(msg):\n",
    "    with sqlite3.connect('planner_hse.db') as con:\n",
    "        cursor = con.cursor()\n",
    "        cursor.execute('SELECT plan FROM planner WHERE user_id=={}'.format(msg.from_user.id))\n",
    "        tasks = get_plans_string(cursor.fetchall())\n",
    "        bot.send_message(msg.chat.id, tasks)\n",
    "        send_keyboard(msg, \"Чем еще могу помочь?\")"
   ]
  },
  {
   "cell_type": "markdown",
   "metadata": {},
   "source": [
    "**Удалить дело из списка**"
   ]
  },
  {
   "cell_type": "code",
   "execution_count": 9,
   "metadata": {},
   "outputs": [],
   "source": [
    "# выыделяет одно дело, которое пользователь хочет удалить\n",
    "def delete_one_plan(msg):\n",
    "    markup = types.ReplyKeyboardMarkup(row_width=2)\n",
    "    with sqlite3.connect('planner_hse.db') as con:\n",
    "        cursor = con.cursor()\n",
    "        # достаем все задачи пользователя\n",
    "        cursor.execute('SELECT plan FROM planner WHERE user_id=={}'.format(msg.from_user.id))\n",
    "        # достанем результат запроса\n",
    "        tasks = cursor.fetchall()\n",
    "        for value in tasks:\n",
    "            markup.add(types.KeyboardButton(value[0]))\n",
    "        msg = bot.send_message(msg.from_user.id,\n",
    "                               text = \"Выбери одно дело из списка\",\n",
    "                               reply_markup=markup)\n",
    "        bot.register_next_step_handler(msg, delete_one_plan_)\n",
    "\n",
    "# удаляет это дело\n",
    "def delete_one_plan_(msg):\n",
    "    with sqlite3.connect('planner_hse.db') as con:\n",
    "        cursor = con.cursor()\n",
    "        cursor.execute('DELETE FROM planner WHERE user_id==? AND plan==?', (msg.from_user.id, msg.text))\n",
    "        bot.send_message(msg.chat.id, 'Ура, минус одна задача!')\n",
    "        send_keyboard(msg, \"Чем еще могу помочь?\")"
   ]
  },
  {
   "cell_type": "markdown",
   "metadata": {},
   "source": [
    "**Удалить все дела из списка**"
   ]
  },
  {
   "cell_type": "code",
   "execution_count": 10,
   "metadata": {},
   "outputs": [],
   "source": [
    "# удаляет все планы для конкретного пользователя\n",
    "def delete_all_plans(msg):\n",
    "    with sqlite3.connect('planner_hse.db') as con:\n",
    "        cursor = con.cursor()\n",
    "        cursor.execute('DELETE FROM planner WHERE user_id=={}'.format(msg.from_user.id))\n",
    "        con.commit()\n",
    "    bot.send_message(msg.chat.id, 'Удалены все дела. Хорошего отдыха!')\n",
    "    send_keyboard(msg, \"Чем еще могу помочь?\")"
   ]
  },
  {
   "cell_type": "code",
   "execution_count": 11,
   "metadata": {},
   "outputs": [],
   "source": [
    "# привязываем функции к кнопкам на клавиатуре\n",
    "def callback_worker(call):\n",
    "    if call.text == \"Добавить дело в список\":\n",
    "        msg = bot.send_message(call.chat.id, 'Давайте добавим дело! Напишите его в чат')\n",
    "        bot.register_next_step_handler(msg, add_plan)\n",
    "\n",
    "    elif call.text == \"Показать список дел\":\n",
    "        try:\n",
    "            show_plans(call)\n",
    "        except:\n",
    "            bot.send_message(call.chat.id, 'Здесь пусто. Можно отдыхать :-)')\n",
    "            send_keyboard(call, \"Чем еще могу помочь?\")\n",
    "\n",
    "    elif call.text == \"Удалить дело из списка\":\n",
    "        try:\n",
    "            delete_one_plan(call)\n",
    "        except:\n",
    "            bot.send_message(call.chat.id, 'Здесь пусто. Можно отдыхать :-)')\n",
    "            send_keyboard(call, \"Чем еще могу помочь?\")\n",
    "\n",
    "    elif call.text == \"Удалить все дела из списка\":\n",
    "        try:\n",
    "            delete_all_plans(call)\n",
    "        except:\n",
    "            bot.send_message(call.chat.id, 'Здесь пусто. Можно отдыхать :-)')\n",
    "            send_keyboard(call, \"Чем еще могу помочь?\")\n",
    "\n",
    "    elif call.text == \"Другое\":\n",
    "        bot.send_message(call.chat.id, 'Больше я пока ничего не умею :-(')\n",
    "        send_keyboard(call, \"Чем еще могу помочь?\")\n",
    "\n",
    "    elif call.text == \"Пока все!\":\n",
    "        bot.send_message(call.chat.id, 'Хорошего дня! Когда захотите продолжнить нажмите на команду /start')"
   ]
  },
  {
   "cell_type": "code",
   "execution_count": 12,
   "metadata": {},
   "outputs": [],
   "source": [
    "@bot.message_handler(content_types=['text'])\n",
    "def handle_docs_audio(message):\n",
    "    send_keyboard(message, text=\"Я не понимаю :-( Выберите один из пунктов меню:\")"
   ]
  },
  {
   "cell_type": "code",
   "execution_count": null,
   "metadata": {},
   "outputs": [
    {
     "name": "stderr",
     "output_type": "stream",
     "text": [
      "2022-12-08 17:01:20,186 (__init__.py:1083 MainThread) ERROR - TeleBot: \"Threaded polling exception: A request to the Telegram API was unsuccessful. Error code: 409. Description: Conflict: terminated by other getUpdates request; make sure that only one bot instance is running\"\n",
      "2022-12-08 17:01:20,192 (__init__.py:1085 MainThread) ERROR - TeleBot: \"Exception traceback:\n",
      "Traceback (most recent call last):\n",
      "  File \"C:\\Users\\mbbur\\anaconda3\\lib\\site-packages\\telebot\\__init__.py\", line 1073, in __threaded_polling\n",
      "    polling_thread.raise_exceptions()\n",
      "  File \"C:\\Users\\mbbur\\anaconda3\\lib\\site-packages\\telebot\\util.py\", line 118, in raise_exceptions\n",
      "    raise self.exception_info\n",
      "  File \"C:\\Users\\mbbur\\anaconda3\\lib\\site-packages\\telebot\\util.py\", line 100, in run\n",
      "    task(*args, **kwargs)\n",
      "  File \"C:\\Users\\mbbur\\anaconda3\\lib\\site-packages\\telebot\\__init__.py\", line 649, in __retrieve_updates\n",
      "    updates = self.get_updates(offset=(self.last_update_id + 1),\n",
      "  File \"C:\\Users\\mbbur\\anaconda3\\lib\\site-packages\\telebot\\__init__.py\", line 623, in get_updates\n",
      "    json_updates = apihelper.get_updates(self.token, offset, limit, timeout, allowed_updates, long_polling_timeout)\n",
      "  File \"C:\\Users\\mbbur\\anaconda3\\lib\\site-packages\\telebot\\apihelper.py\", line 321, in get_updates\n",
      "    return _make_request(token, method_url, params=payload)\n",
      "  File \"C:\\Users\\mbbur\\anaconda3\\lib\\site-packages\\telebot\\apihelper.py\", line 162, in _make_request\n",
      "    json_result = _check_result(method_name, result)\n",
      "  File \"C:\\Users\\mbbur\\anaconda3\\lib\\site-packages\\telebot\\apihelper.py\", line 189, in _check_result\n",
      "    raise ApiTelegramException(method_name, result, result_json)\n",
      "telebot.apihelper.ApiTelegramException: A request to the Telegram API was unsuccessful. Error code: 409. Description: Conflict: terminated by other getUpdates request; make sure that only one bot instance is running\n",
      "\"\n",
      "2022-12-08 17:01:24,557 (__init__.py:1083 MainThread) ERROR - TeleBot: \"Threaded polling exception: A request to the Telegram API was unsuccessful. Error code: 409. Description: Conflict: terminated by other getUpdates request; make sure that only one bot instance is running\"\n",
      "2022-12-08 17:01:24,558 (__init__.py:1085 MainThread) ERROR - TeleBot: \"Exception traceback:\n",
      "Traceback (most recent call last):\n",
      "  File \"C:\\Users\\mbbur\\anaconda3\\lib\\site-packages\\telebot\\__init__.py\", line 1073, in __threaded_polling\n",
      "    polling_thread.raise_exceptions()\n",
      "  File \"C:\\Users\\mbbur\\anaconda3\\lib\\site-packages\\telebot\\util.py\", line 118, in raise_exceptions\n",
      "    raise self.exception_info\n",
      "  File \"C:\\Users\\mbbur\\anaconda3\\lib\\site-packages\\telebot\\util.py\", line 100, in run\n",
      "    task(*args, **kwargs)\n",
      "  File \"C:\\Users\\mbbur\\anaconda3\\lib\\site-packages\\telebot\\__init__.py\", line 649, in __retrieve_updates\n",
      "    updates = self.get_updates(offset=(self.last_update_id + 1),\n",
      "  File \"C:\\Users\\mbbur\\anaconda3\\lib\\site-packages\\telebot\\__init__.py\", line 623, in get_updates\n",
      "    json_updates = apihelper.get_updates(self.token, offset, limit, timeout, allowed_updates, long_polling_timeout)\n",
      "  File \"C:\\Users\\mbbur\\anaconda3\\lib\\site-packages\\telebot\\apihelper.py\", line 321, in get_updates\n",
      "    return _make_request(token, method_url, params=payload)\n",
      "  File \"C:\\Users\\mbbur\\anaconda3\\lib\\site-packages\\telebot\\apihelper.py\", line 162, in _make_request\n",
      "    json_result = _check_result(method_name, result)\n",
      "  File \"C:\\Users\\mbbur\\anaconda3\\lib\\site-packages\\telebot\\apihelper.py\", line 189, in _check_result\n",
      "    raise ApiTelegramException(method_name, result, result_json)\n",
      "telebot.apihelper.ApiTelegramException: A request to the Telegram API was unsuccessful. Error code: 409. Description: Conflict: terminated by other getUpdates request; make sure that only one bot instance is running\n",
      "\"\n",
      "2022-12-08 17:01:36,237 (__init__.py:1083 MainThread) ERROR - TeleBot: \"Threaded polling exception: A request to the Telegram API was unsuccessful. Error code: 409. Description: Conflict: terminated by other getUpdates request; make sure that only one bot instance is running\"\n",
      "2022-12-08 17:01:36,239 (__init__.py:1085 MainThread) ERROR - TeleBot: \"Exception traceback:\n",
      "Traceback (most recent call last):\n",
      "  File \"C:\\Users\\mbbur\\anaconda3\\lib\\site-packages\\telebot\\__init__.py\", line 1073, in __threaded_polling\n",
      "    polling_thread.raise_exceptions()\n",
      "  File \"C:\\Users\\mbbur\\anaconda3\\lib\\site-packages\\telebot\\util.py\", line 118, in raise_exceptions\n",
      "    raise self.exception_info\n",
      "  File \"C:\\Users\\mbbur\\anaconda3\\lib\\site-packages\\telebot\\util.py\", line 100, in run\n",
      "    task(*args, **kwargs)\n",
      "  File \"C:\\Users\\mbbur\\anaconda3\\lib\\site-packages\\telebot\\__init__.py\", line 649, in __retrieve_updates\n",
      "    updates = self.get_updates(offset=(self.last_update_id + 1),\n",
      "  File \"C:\\Users\\mbbur\\anaconda3\\lib\\site-packages\\telebot\\__init__.py\", line 623, in get_updates\n",
      "    json_updates = apihelper.get_updates(self.token, offset, limit, timeout, allowed_updates, long_polling_timeout)\n",
      "  File \"C:\\Users\\mbbur\\anaconda3\\lib\\site-packages\\telebot\\apihelper.py\", line 321, in get_updates\n",
      "    return _make_request(token, method_url, params=payload)\n",
      "  File \"C:\\Users\\mbbur\\anaconda3\\lib\\site-packages\\telebot\\apihelper.py\", line 162, in _make_request\n",
      "    json_result = _check_result(method_name, result)\n",
      "  File \"C:\\Users\\mbbur\\anaconda3\\lib\\site-packages\\telebot\\apihelper.py\", line 189, in _check_result\n",
      "    raise ApiTelegramException(method_name, result, result_json)\n",
      "telebot.apihelper.ApiTelegramException: A request to the Telegram API was unsuccessful. Error code: 409. Description: Conflict: terminated by other getUpdates request; make sure that only one bot instance is running\n",
      "\"\n",
      "2022-12-08 17:01:56,521 (__init__.py:1083 MainThread) ERROR - TeleBot: \"Threaded polling exception: A request to the Telegram API was unsuccessful. Error code: 409. Description: Conflict: terminated by other getUpdates request; make sure that only one bot instance is running\"\n",
      "2022-12-08 17:01:56,523 (__init__.py:1085 MainThread) ERROR - TeleBot: \"Exception traceback:\n",
      "Traceback (most recent call last):\n",
      "  File \"C:\\Users\\mbbur\\anaconda3\\lib\\site-packages\\telebot\\__init__.py\", line 1073, in __threaded_polling\n",
      "    polling_thread.raise_exceptions()\n",
      "  File \"C:\\Users\\mbbur\\anaconda3\\lib\\site-packages\\telebot\\util.py\", line 118, in raise_exceptions\n",
      "    raise self.exception_info\n",
      "  File \"C:\\Users\\mbbur\\anaconda3\\lib\\site-packages\\telebot\\util.py\", line 100, in run\n",
      "    task(*args, **kwargs)\n",
      "  File \"C:\\Users\\mbbur\\anaconda3\\lib\\site-packages\\telebot\\__init__.py\", line 649, in __retrieve_updates\n",
      "    updates = self.get_updates(offset=(self.last_update_id + 1),\n",
      "  File \"C:\\Users\\mbbur\\anaconda3\\lib\\site-packages\\telebot\\__init__.py\", line 623, in get_updates\n",
      "    json_updates = apihelper.get_updates(self.token, offset, limit, timeout, allowed_updates, long_polling_timeout)\n",
      "  File \"C:\\Users\\mbbur\\anaconda3\\lib\\site-packages\\telebot\\apihelper.py\", line 321, in get_updates\n",
      "    return _make_request(token, method_url, params=payload)\n",
      "  File \"C:\\Users\\mbbur\\anaconda3\\lib\\site-packages\\telebot\\apihelper.py\", line 162, in _make_request\n",
      "    json_result = _check_result(method_name, result)\n",
      "  File \"C:\\Users\\mbbur\\anaconda3\\lib\\site-packages\\telebot\\apihelper.py\", line 189, in _check_result\n",
      "    raise ApiTelegramException(method_name, result, result_json)\n",
      "telebot.apihelper.ApiTelegramException: A request to the Telegram API was unsuccessful. Error code: 409. Description: Conflict: terminated by other getUpdates request; make sure that only one bot instance is running\n",
      "\"\n",
      "2022-12-08 17:02:31,906 (__init__.py:1083 MainThread) ERROR - TeleBot: \"Threaded polling exception: A request to the Telegram API was unsuccessful. Error code: 409. Description: Conflict: terminated by other getUpdates request; make sure that only one bot instance is running\"\n",
      "2022-12-08 17:02:31,906 (__init__.py:1085 MainThread) ERROR - TeleBot: \"Exception traceback:\n",
      "Traceback (most recent call last):\n",
      "  File \"C:\\Users\\mbbur\\anaconda3\\lib\\site-packages\\telebot\\__init__.py\", line 1073, in __threaded_polling\n",
      "    polling_thread.raise_exceptions()\n",
      "  File \"C:\\Users\\mbbur\\anaconda3\\lib\\site-packages\\telebot\\util.py\", line 118, in raise_exceptions\n",
      "    raise self.exception_info\n",
      "  File \"C:\\Users\\mbbur\\anaconda3\\lib\\site-packages\\telebot\\util.py\", line 100, in run\n",
      "    task(*args, **kwargs)\n",
      "  File \"C:\\Users\\mbbur\\anaconda3\\lib\\site-packages\\telebot\\__init__.py\", line 649, in __retrieve_updates\n",
      "    updates = self.get_updates(offset=(self.last_update_id + 1),\n",
      "  File \"C:\\Users\\mbbur\\anaconda3\\lib\\site-packages\\telebot\\__init__.py\", line 623, in get_updates\n",
      "    json_updates = apihelper.get_updates(self.token, offset, limit, timeout, allowed_updates, long_polling_timeout)\n",
      "  File \"C:\\Users\\mbbur\\anaconda3\\lib\\site-packages\\telebot\\apihelper.py\", line 321, in get_updates\n",
      "    return _make_request(token, method_url, params=payload)\n",
      "  File \"C:\\Users\\mbbur\\anaconda3\\lib\\site-packages\\telebot\\apihelper.py\", line 162, in _make_request\n",
      "    json_result = _check_result(method_name, result)\n",
      "  File \"C:\\Users\\mbbur\\anaconda3\\lib\\site-packages\\telebot\\apihelper.py\", line 189, in _check_result\n",
      "    raise ApiTelegramException(method_name, result, result_json)\n",
      "telebot.apihelper.ApiTelegramException: A request to the Telegram API was unsuccessful. Error code: 409. Description: Conflict: terminated by other getUpdates request; make sure that only one bot instance is running\n",
      "\"\n"
     ]
    }
   ],
   "source": [
    "bot.polling(none_stop=True) # или bot.infinity_polling()"
   ]
  },
  {
   "cell_type": "code",
   "execution_count": null,
   "metadata": {},
   "outputs": [],
   "source": []
  }
 ],
 "metadata": {
  "kernelspec": {
   "display_name": "Python 3 (ipykernel)",
   "language": "python",
   "name": "python3"
  },
  "language_info": {
   "codemirror_mode": {
    "name": "ipython",
    "version": 3
   },
   "file_extension": ".py",
   "mimetype": "text/x-python",
   "name": "python",
   "nbconvert_exporter": "python",
   "pygments_lexer": "ipython3",
   "version": "3.9.12"
  },
  "toc": {
   "base_numbering": 1,
   "nav_menu": {},
   "number_sections": true,
   "sideBar": true,
   "skip_h1_title": false,
   "title_cell": "Table of Contents",
   "title_sidebar": "Contents",
   "toc_cell": false,
   "toc_position": {},
   "toc_section_display": true,
   "toc_window_display": false
  },
  "varInspector": {
   "cols": {
    "lenName": 16,
    "lenType": 16,
    "lenVar": 40
   },
   "kernels_config": {
    "python": {
     "delete_cmd_postfix": "",
     "delete_cmd_prefix": "del ",
     "library": "var_list.py",
     "varRefreshCmd": "print(var_dic_list())"
    },
    "r": {
     "delete_cmd_postfix": ") ",
     "delete_cmd_prefix": "rm(",
     "library": "var_list.r",
     "varRefreshCmd": "cat(var_dic_list()) "
    }
   },
   "types_to_exclude": [
    "module",
    "function",
    "builtin_function_or_method",
    "instance",
    "_Feature"
   ],
   "window_display": false
  }
 },
 "nbformat": 4,
 "nbformat_minor": 4
}
