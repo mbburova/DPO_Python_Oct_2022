{
 "cells": [
  {
   "cell_type": "markdown",
   "id": "bad6f98d",
   "metadata": {},
   "source": [
    "# Пример 1. Эхо-бот"
   ]
  },
  {
   "cell_type": "code",
   "execution_count": null,
   "id": "d8d00402",
   "metadata": {},
   "outputs": [],
   "source": [
    "import telebot"
   ]
  },
  {
   "cell_type": "code",
   "execution_count": null,
   "id": "4d379622",
   "metadata": {},
   "outputs": [],
   "source": [
    "bot = telebot.TeleBot('токен')"
   ]
  },
  {
   "cell_type": "code",
   "execution_count": null,
   "id": "1425a34d",
   "metadata": {},
   "outputs": [],
   "source": [
    "@bot.message_handler(commands=[\"start\"])\n",
    "def start(m):\n",
    "    bot.send_message(m.chat.id, 'Я на связи. Напиши мне что-нибудь )')"
   ]
  },
  {
   "cell_type": "code",
   "execution_count": null,
   "id": "37e5554a",
   "metadata": {},
   "outputs": [],
   "source": [
    "@bot.message_handler(content_types=[\"text\"])\n",
    "def handle_text(message):\n",
    "    bot.send_message(message.chat.id, 'Вы написали: ' + message.text)"
   ]
  },
  {
   "cell_type": "code",
   "execution_count": null,
   "id": "b9045066",
   "metadata": {},
   "outputs": [],
   "source": [
    "bot.polling(none_stop=True, interval=0)"
   ]
  }
 ],
 "metadata": {
  "kernelspec": {
   "display_name": "Python 3 (ipykernel)",
   "language": "python",
   "name": "python3"
  },
  "language_info": {
   "codemirror_mode": {
    "name": "ipython",
    "version": 3
   },
   "file_extension": ".py",
   "mimetype": "text/x-python",
   "name": "python",
   "nbconvert_exporter": "python",
   "pygments_lexer": "ipython3",
   "version": "3.9.12"
  }
 },
 "nbformat": 4,
 "nbformat_minor": 5
}
