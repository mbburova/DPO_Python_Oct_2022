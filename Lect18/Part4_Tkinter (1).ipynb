{
 "cells": [
  {
   "cell_type": "markdown",
   "id": "17a20e92",
   "metadata": {},
   "source": [
    "# Tkinter"
   ]
  },
  {
   "cell_type": "markdown",
   "id": "b00b0422",
   "metadata": {},
   "source": [
    "Главным элементом GUI Tkinter является окно. Окнами называют контейнеры, в которых находятся все GUI элементы. Данные GUI элементы, к числу которых относятся текстовые боксы, ярлыки и кнопки, называются виджетами. Виджеты помещаются внутри окон."
   ]
  },
  {
   "cell_type": "code",
   "execution_count": 1,
   "id": "ee01e8f3",
   "metadata": {},
   "outputs": [],
   "source": [
    "from tkinter import *"
   ]
  },
  {
   "cell_type": "markdown",
   "id": "020c5171",
   "metadata": {},
   "source": [
    "Окно, или window является экземпляром класса Tkinter. Попробуем создать новое окно, присвоив его переменной окна window:"
   ]
  },
  {
   "cell_type": "code",
   "execution_count": 7,
   "id": "cacead1c",
   "metadata": {},
   "outputs": [],
   "source": [
    "window= Tk()"
   ]
  },
  {
   "cell_type": "markdown",
   "id": "ce2e8ae8",
   "metadata": {},
   "source": [
    "Создадим виджет ярлыка (label) с текстом \"Привет, Tkinter!\" и присвоим его переменной под названием greeting:"
   ]
  },
  {
   "cell_type": "code",
   "execution_count": 8,
   "id": "210fb8e0",
   "metadata": {},
   "outputs": [],
   "source": [
    "window= Tk()\n",
    "greeting = Label(text=\"Привет, Tkinter!\")\n",
    "window.mainloop()"
   ]
  },
  {
   "cell_type": "code",
   "execution_count": 9,
   "id": "69693b56",
   "metadata": {},
   "outputs": [],
   "source": [
    "window= Tk()\n",
    "greeting = Label(text=\"Привет, Tkinter!\")\n",
    "greeting.pack()\n",
    "window.mainloop()"
   ]
  },
  {
   "cell_type": "markdown",
   "id": "effae6ca",
   "metadata": {},
   "source": [
    "### Задание #1 Создать обычное окно в Tkinter\n",
    "\n",
    "Напишите полный скрипт для создания окна в Tkinter с текстом «Python рулит!». Окно должно выглядеть следующим образом:"
   ]
  },
  {
   "cell_type": "code",
   "execution_count": null,
   "id": "2b3ebf12",
   "metadata": {},
   "outputs": [],
   "source": [
    "#ваш код"
   ]
  },
  {
   "cell_type": "markdown",
   "id": "232f8e02",
   "metadata": {},
   "source": [
    "## Работа с виджетами в Tkinter\n",
    "Виджеты являются основой GUI фреймворка Tkinter в Python. Это элементы, через которые пользователи взаимодействуют с программой. В Tkinter каждый виджет определен классом. Далее представлен список популярных виджетов из Tkinter:"
   ]
  },
  {
   "cell_type": "markdown",
   "id": "034d2cd5",
   "metadata": {},
   "source": [
    "* Label\tИспользуется для отображения текста или вставки изображения на окне приложения.\n",
    "* Button\tКнопка, на которой может быть текст, совершает определенные действия при нажатии на нее.\n",
    "* Entry\tВиджет для ввода одной строчки текста.\n",
    "* Text\tВиджет для ввода большого текста. \n",
    "* Frame\tПрямоугольная область, что используется для группировки виджетов или для добавления расстояния между виджетами."
   ]
  },
  {
   "cell_type": "markdown",
   "id": "98da4b95",
   "metadata": {},
   "source": [
    "### Виджет Label — Отображение текста и картинок\n",
    "Виджеты Label используется для отображения текста или картинок. Текст на виджете Label, не может редактироваться пользователем. Он только показывается. Как было показано в примере в начале данного руководства, виджет Label можно создать через экземпляр класса Label и передачу строки в параметр text:"
   ]
  },
  {
   "cell_type": "code",
   "execution_count": 10,
   "id": "80a930c9",
   "metadata": {},
   "outputs": [],
   "source": [
    "label = Label(text=\"Hello, Tkinter\")"
   ]
  },
  {
   "cell_type": "markdown",
   "id": "49995213",
   "metadata": {},
   "source": [
    "Виджеты Label отображают текст с установленным по умолчанию системным цветом и фоном. Обычно это черный и белый цвета. Следовательно, если в вашей операционной системе указаны иные цвета, именно их вы и увидите.\n",
    "\n",
    "Изменить цвет текста и фона виджета Label можно через параметры foreground и background:"
   ]
  },
  {
   "cell_type": "code",
   "execution_count": 12,
   "id": "f6c98b69",
   "metadata": {},
   "outputs": [],
   "source": [
    "label = Label(\n",
    "    text=\"Привет, Tkinter!\",\n",
    "    foreground=\"white\",  # Устанавливает белый текст\n",
    "    background=\"black\"  # Устанавливает черный фон\n",
    ")"
   ]
  },
  {
   "cell_type": "markdown",
   "id": "2a1ca440",
   "metadata": {},
   "source": [
    "Некоторые доступные цвета:\n",
    "\n",
    "* red — красный;\n",
    "* orange — оранжевый;\n",
    "* yellow — желтый;\n",
    "* green — зеленый;\n",
    "* blue — синий;\n",
    "* purple — сиреневый."
   ]
  },
  {
   "cell_type": "markdown",
   "id": "2ba4b9c5",
   "metadata": {},
   "source": [
    "![](https://python-scripts.com/wp-content/uploads/2020/08/tkinter-colors-list.png)"
   ]
  },
  {
   "cell_type": "markdown",
   "id": "115c3fe3",
   "metadata": {},
   "source": [
    "Вы также можете указать цвет, используя шестнадцатеричные значения RGB такое часто используется в CSS для стилизации сайтов:"
   ]
  },
  {
   "cell_type": "code",
   "execution_count": 13,
   "id": "2e5cfd1f",
   "metadata": {},
   "outputs": [],
   "source": [
    "label = Label(text=\"Привет, Tkinter!\", background=\"#34A2FE\")"
   ]
  },
  {
   "cell_type": "markdown",
   "id": "dd18db0f",
   "metadata": {},
   "source": [
    "Попробуем посмотреть, что получилось:"
   ]
  },
  {
   "cell_type": "code",
   "execution_count": 17,
   "id": "eadb85f5",
   "metadata": {},
   "outputs": [],
   "source": [
    "label = Label(text=\"Привет, Tkinter!\", background=\"#34A2FE\")\n",
    "label.pack()\n",
    "window.mainloop()"
   ]
  },
  {
   "cell_type": "markdown",
   "id": "82ac5f1b",
   "metadata": {},
   "source": [
    "Если вам не хочется регулярно вводить foreground и background, можете использовать сокращенные версии параметров — fg и bg. Они точно также отвечают за установку цвета текста и цвета фона."
   ]
  },
  {
   "cell_type": "code",
   "execution_count": 18,
   "id": "532f1602",
   "metadata": {},
   "outputs": [],
   "source": [
    "l = Label(text=\"Привет, Tkinter!\", fg=\"white\", bg=\"black\")\n",
    "l.pack()\n",
    "window.mainloop()"
   ]
  },
  {
   "cell_type": "markdown",
   "id": "7c912e3c",
   "metadata": {},
   "source": [
    "Вы также можете управлять шириной и высотой ярлыка с помощью параметров width и height:"
   ]
  },
  {
   "cell_type": "code",
   "execution_count": 19,
   "id": "5ab80c04",
   "metadata": {},
   "outputs": [],
   "source": [
    "label = Label(\n",
    "    text=\"Привет, Tkinter!\",\n",
    "    fg=\"white\",\n",
    "    bg=\"black\",\n",
    "    width=20,\n",
    "    height=20\n",
    ")\n",
    " \n",
    "label.pack()\n",
    "window.mainloop()"
   ]
  },
  {
   "cell_type": "markdown",
   "id": "7e1438cb",
   "metadata": {},
   "source": [
    "Может показаться странным, что ярлык в окне не является квадратным, хотя параметр как ширины, так и высоты равен 20. Все оттого, что ширина и высота измеряются в текстовых юнитах.\n",
    "\n",
    "Горизонтальный текстовый юнит определен шириной символа \"0\", или цифрой ноль, в шрифте системы по умолчанию. Аналогичным образом один вертикальный текстовый юнит определен высотой символа \"0\"."
   ]
  },
  {
   "cell_type": "markdown",
   "id": "204188af",
   "metadata": {},
   "source": [
    "## Создание кнопки через виджет Button\n",
    "Виджеты Button нужны для создания кликабельных кнопок. Их можно настроить таким образом, чтобы при нажатии вызывалась определенная функция. В следующей части урока, будет рассмотрено, как именно вызвать функцию при нажатии на кнопку. А пока займемся стилизацией виджета кнопки.\n",
    "\n",
    "Существует много сходств между виджетами Button и Label. По сути кнопка — это просто ярлык, на который можно кликнуть. Для создания стилей виджетов ярлыка и кнопки также используются одинаковые аргументы."
   ]
  },
  {
   "cell_type": "markdown",
   "id": "0798c269",
   "metadata": {},
   "source": [
    "К примеру, следующий код создает кнопку с синим фоном и желтым текстом. Также устанавливается ширина и высота с показателями в 25 и 5 текстовых юнит:"
   ]
  },
  {
   "cell_type": "code",
   "execution_count": 20,
   "id": "b68d262f",
   "metadata": {},
   "outputs": [],
   "source": [
    "\n",
    " \n",
    "button = Button(\n",
    "    text=\"Нажми на меня!\",\n",
    "    width=25,\n",
    "    height=5,\n",
    "    bg=\"blue\",\n",
    "    fg=\"yellow\",\n",
    ")\n",
    " \n",
    "button.pack()\n",
    "window.mainloop()"
   ]
  },
  {
   "cell_type": "markdown",
   "id": "de48809d",
   "metadata": {},
   "source": [
    "Неплохо! Следующие два виджета Entry и Text используются для сбора вводных данных от пользователя."
   ]
  },
  {
   "cell_type": "markdown",
   "id": "9b22e1d0",
   "metadata": {},
   "source": [
    "## Виджет Entry — Однострочное текстовое поле\n",
    "В случаях, когда требуется получить текстовую информацию от пользователя вроде адреса электронной почты, используется виджет Entry. Он отображает небольшой текстовый бокс, куда пользователь может ввести текст.\n",
    "\n",
    "Создание виджета Entry практически ничем не отличается от процесса создания ярлыка и кнопки. К примеру, следующий код создает виджет с синим фоном и желтым текстом длиной в 50 текстовых юнит:\n",
    "\n"
   ]
  },
  {
   "cell_type": "code",
   "execution_count": 22,
   "id": "570cba28",
   "metadata": {},
   "outputs": [],
   "source": [
    "entry = Entry(fg=\"yellow\", bg=\"blue\", width=50)"
   ]
  },
  {
   "cell_type": "markdown",
   "id": "e666f8b2",
   "metadata": {},
   "source": [
    "В случае виджета однострочного текстового поля (Entry) интересен не процесс создания стиля, а то, как получить эти входные данные от пользователя. Есть три основные операции, что можно провести с виджетом однострочного текстового поля (Entry):\n",
    "\n",
    "* Получение всего текста через .get()\n",
    "* Удаление текста через .delete()\n",
    "* Вставка нового текста через .insert()\n",
    "\n",
    "Для лучшего понимания принципа работы виджетов Entry создадим один экземпляр элемента и попробуем ввести в него текст. "
   ]
  },
  {
   "cell_type": "code",
   "execution_count": 5,
   "id": "32ec0064",
   "metadata": {},
   "outputs": [
    {
     "ename": "KeyboardInterrupt",
     "evalue": "",
     "output_type": "error",
     "traceback": [
      "\u001b[1;31m---------------------------------------------------------------------------\u001b[0m",
      "\u001b[1;31mKeyboardInterrupt\u001b[0m                         Traceback (most recent call last)",
      "\u001b[1;32m~\\AppData\\Local\\Temp\\ipykernel_22648\\1601119340.py\u001b[0m in \u001b[0;36m<module>\u001b[1;34m\u001b[0m\n\u001b[0;32m      4\u001b[0m \u001b[0mlabel\u001b[0m\u001b[1;33m.\u001b[0m\u001b[0mpack\u001b[0m\u001b[1;33m(\u001b[0m\u001b[1;33m)\u001b[0m\u001b[1;33m\u001b[0m\u001b[1;33m\u001b[0m\u001b[0m\n\u001b[0;32m      5\u001b[0m \u001b[0mentry\u001b[0m\u001b[1;33m.\u001b[0m\u001b[0mpack\u001b[0m\u001b[1;33m(\u001b[0m\u001b[1;33m)\u001b[0m\u001b[1;33m\u001b[0m\u001b[1;33m\u001b[0m\u001b[0m\n\u001b[1;32m----> 6\u001b[1;33m \u001b[0mwindow\u001b[0m\u001b[1;33m.\u001b[0m\u001b[0mmainloop\u001b[0m\u001b[1;33m(\u001b[0m\u001b[1;33m)\u001b[0m\u001b[1;33m\u001b[0m\u001b[1;33m\u001b[0m\u001b[0m\n\u001b[0m",
      "\u001b[1;32m~\\anaconda3\\lib\\tkinter\\__init__.py\u001b[0m in \u001b[0;36mmainloop\u001b[1;34m(self, n)\u001b[0m\n\u001b[0;32m   1427\u001b[0m     \u001b[1;32mdef\u001b[0m \u001b[0mmainloop\u001b[0m\u001b[1;33m(\u001b[0m\u001b[0mself\u001b[0m\u001b[1;33m,\u001b[0m \u001b[0mn\u001b[0m\u001b[1;33m=\u001b[0m\u001b[1;36m0\u001b[0m\u001b[1;33m)\u001b[0m\u001b[1;33m:\u001b[0m\u001b[1;33m\u001b[0m\u001b[1;33m\u001b[0m\u001b[0m\n\u001b[0;32m   1428\u001b[0m         \u001b[1;34m\"\"\"Call the mainloop of Tk.\"\"\"\u001b[0m\u001b[1;33m\u001b[0m\u001b[1;33m\u001b[0m\u001b[0m\n\u001b[1;32m-> 1429\u001b[1;33m         \u001b[0mself\u001b[0m\u001b[1;33m.\u001b[0m\u001b[0mtk\u001b[0m\u001b[1;33m.\u001b[0m\u001b[0mmainloop\u001b[0m\u001b[1;33m(\u001b[0m\u001b[0mn\u001b[0m\u001b[1;33m)\u001b[0m\u001b[1;33m\u001b[0m\u001b[1;33m\u001b[0m\u001b[0m\n\u001b[0m\u001b[0;32m   1430\u001b[0m \u001b[1;33m\u001b[0m\u001b[0m\n\u001b[0;32m   1431\u001b[0m     \u001b[1;32mdef\u001b[0m \u001b[0mquit\u001b[0m\u001b[1;33m(\u001b[0m\u001b[0mself\u001b[0m\u001b[1;33m)\u001b[0m\u001b[1;33m:\u001b[0m\u001b[1;33m\u001b[0m\u001b[1;33m\u001b[0m\u001b[0m\n",
      "\u001b[1;31mKeyboardInterrupt\u001b[0m: "
     ]
    }
   ],
   "source": [
    "window = Tk()\n",
    "label = Label(text=\"Имя\")\n",
    "entry = Entry()\n",
    "label.pack()\n",
    "entry.pack()\n",
    "window.mainloop()"
   ]
  },
  {
   "cell_type": "markdown",
   "id": "760ca6e0",
   "metadata": {},
   "source": [
    "Теперь в виджете текстового поля есть текст, только он еще не был отправлен в программу. Для получения текста и присваивания его значения переменной name используется метод .get():"
   ]
  },
  {
   "cell_type": "code",
   "execution_count": 6,
   "id": "0ab47e85",
   "metadata": {},
   "outputs": [
    {
     "data": {
      "text/plain": [
       "'Маргарита'"
      ]
     },
     "execution_count": 6,
     "metadata": {},
     "output_type": "execute_result"
    }
   ],
   "source": [
    "name = entry.get()\n",
    "name"
   ]
  },
  {
   "cell_type": "code",
   "execution_count": 13,
   "id": "a6085328",
   "metadata": {},
   "outputs": [
    {
     "ename": "KeyboardInterrupt",
     "evalue": "",
     "output_type": "error",
     "traceback": [
      "\u001b[1;31m---------------------------------------------------------------------------\u001b[0m",
      "\u001b[1;31mKeyboardInterrupt\u001b[0m                         Traceback (most recent call last)",
      "\u001b[1;32m~\\AppData\\Local\\Temp\\ipykernel_22648\\2012459150.py\u001b[0m in \u001b[0;36m<module>\u001b[1;34m\u001b[0m\n\u001b[0;32m      5\u001b[0m \u001b[0mlabel\u001b[0m\u001b[1;33m.\u001b[0m\u001b[0mpack\u001b[0m\u001b[1;33m(\u001b[0m\u001b[1;33m)\u001b[0m\u001b[1;33m\u001b[0m\u001b[1;33m\u001b[0m\u001b[0m\n\u001b[0;32m      6\u001b[0m \u001b[0mentry\u001b[0m\u001b[1;33m.\u001b[0m\u001b[0mpack\u001b[0m\u001b[1;33m(\u001b[0m\u001b[1;33m)\u001b[0m\u001b[1;33m\u001b[0m\u001b[1;33m\u001b[0m\u001b[0m\n\u001b[1;32m----> 7\u001b[1;33m \u001b[0mwindow\u001b[0m\u001b[1;33m.\u001b[0m\u001b[0mmainloop\u001b[0m\u001b[1;33m(\u001b[0m\u001b[1;33m)\u001b[0m\u001b[1;33m\u001b[0m\u001b[1;33m\u001b[0m\u001b[0m\n\u001b[0m",
      "\u001b[1;32m~\\anaconda3\\lib\\tkinter\\__init__.py\u001b[0m in \u001b[0;36mmainloop\u001b[1;34m(self, n)\u001b[0m\n\u001b[0;32m   1427\u001b[0m     \u001b[1;32mdef\u001b[0m \u001b[0mmainloop\u001b[0m\u001b[1;33m(\u001b[0m\u001b[0mself\u001b[0m\u001b[1;33m,\u001b[0m \u001b[0mn\u001b[0m\u001b[1;33m=\u001b[0m\u001b[1;36m0\u001b[0m\u001b[1;33m)\u001b[0m\u001b[1;33m:\u001b[0m\u001b[1;33m\u001b[0m\u001b[1;33m\u001b[0m\u001b[0m\n\u001b[0;32m   1428\u001b[0m         \u001b[1;34m\"\"\"Call the mainloop of Tk.\"\"\"\u001b[0m\u001b[1;33m\u001b[0m\u001b[1;33m\u001b[0m\u001b[0m\n\u001b[1;32m-> 1429\u001b[1;33m         \u001b[0mself\u001b[0m\u001b[1;33m.\u001b[0m\u001b[0mtk\u001b[0m\u001b[1;33m.\u001b[0m\u001b[0mmainloop\u001b[0m\u001b[1;33m(\u001b[0m\u001b[0mn\u001b[0m\u001b[1;33m)\u001b[0m\u001b[1;33m\u001b[0m\u001b[1;33m\u001b[0m\u001b[0m\n\u001b[0m\u001b[0;32m   1430\u001b[0m \u001b[1;33m\u001b[0m\u001b[0m\n\u001b[0;32m   1431\u001b[0m     \u001b[1;32mdef\u001b[0m \u001b[0mquit\u001b[0m\u001b[1;33m(\u001b[0m\u001b[0mself\u001b[0m\u001b[1;33m)\u001b[0m\u001b[1;33m:\u001b[0m\u001b[1;33m\u001b[0m\u001b[1;33m\u001b[0m\u001b[0m\n",
      "\u001b[1;31mKeyboardInterrupt\u001b[0m: "
     ]
    }
   ],
   "source": [
    "window = Tk()\n",
    "label = Label(text=\"Имя\")\n",
    "entry = Entry()\n",
    "entry.insert(0, \"Иванов\")\n",
    "label.pack()\n",
    "entry.pack()\n",
    "window.mainloop()"
   ]
  },
  {
   "cell_type": "code",
   "execution_count": 14,
   "id": "7ab5c73b",
   "metadata": {},
   "outputs": [
    {
     "data": {
      "text/plain": [
       "'Иванов и Маргарита'"
      ]
     },
     "execution_count": 14,
     "metadata": {},
     "output_type": "execute_result"
    }
   ],
   "source": [
    "name = entry.get()\n",
    "name"
   ]
  },
  {
   "cell_type": "markdown",
   "id": "8dae874b",
   "metadata": {},
   "source": [
    "## Виджет Text — ввод большого текста в Tkinter\n",
    "Виджеты Text используются для ввода текста, как и виджеты Entry. Разница в том, что Text может содержать несколько строчек текста. С виджетом Text пользователь может вводить целые параграфы или страницы текста. Как и в случае с виджетами Entry, над виджетами Text можно провести три основные операции:\n",
    "\n",
    "Получение текста через метод .get()\n",
    "Удаление текста через метод .delete()\n",
    "Вставка текста через метод .insert()\n",
    "Несмотря на то, что названия методов совпадают с теми, что используются в Entry, процесс реализации несколько различен. Разберем пример создания виджета Text и посмотрим на деле, что он может делать."
   ]
  },
  {
   "cell_type": "code",
   "execution_count": 2,
   "id": "3c235fbf",
   "metadata": {},
   "outputs": [],
   "source": [
    "from tkinter import *\n",
    "window = Tk()\n",
    "text_box = Text()\n",
    "text_box.pack()\n",
    "window.mainloop()"
   ]
  },
  {
   "cell_type": "markdown",
   "id": "e20b2ab1",
   "metadata": {},
   "source": [
    "## Задание #2 — Создать текстовое поле и вставить в нее текст\n",
    "Попробуйте выполнить данную задачку, чтобы убедиться, что вы действительно поняли принцип работы описанных ранее виджетов.\n",
    "\n",
    "Задание: Создать однострочное текстовое поле и вставить на нее какой-то текст.\n",
    "\n",
    "Напишите скрипт для отображения виджета однострочного текстового поля Entry шириной в 40 текстовых юнитов с белым фоном и черным текстом;\n",
    "Используйте метод .insert() для вставки текста: \"What is your name?\"."
   ]
  },
  {
   "cell_type": "code",
   "execution_count": null,
   "id": "d4ef39c0",
   "metadata": {},
   "outputs": [],
   "source": [
    "#ваш код"
   ]
  },
  {
   "cell_type": "markdown",
   "id": "9c6af9f6",
   "metadata": {},
   "source": [
    "## Обработчика событий в Tkinter\n",
    "При создании приложения в Tkinter, для старта цикла событий требуется вызвать метод window.mainloop(). Во время цикла событий приложение проверяет, произошло ли какое либо событие. Если это так, то в ответ может быть выполнен какой-то метод или функция.\n",
    "\n",
    "Цикл обработки событий предоставляется в Tkinter, поэтому не нужно писать дополнительный код для проверки наличия выполнения данных событий. Однако вам все же нужно написать код, который будет выполняться в ответ на событие. В Tkinter создаются функции, называемые обработчиками событий, для событий, которые используются в приложении."
   ]
  },
  {
   "cell_type": "code",
   "execution_count": 17,
   "id": "7dc48ddb",
   "metadata": {},
   "outputs": [
    {
     "name": "stdout",
     "output_type": "stream",
     "text": [
      "c\n",
      "c\n",
      "x\n",
      "c\n",
      "g\n",
      "g\n",
      "h\n",
      "z\n",
      " \n",
      "z\n",
      "x\n",
      "v\n",
      "b\n",
      "x\n",
      "c\n"
     ]
    }
   ],
   "source": [
    "import tkinter as tk\n",
    " \n",
    "window = tk.Tk()\n",
    " \n",
    "def handle_keypress(event):\n",
    "    \"\"\"Выводит символ, связанный с нажатой клавишей\"\"\"\n",
    "    print(event.char)\n",
    " \n",
    "# Связывает событие нажатия клавиши с handle_keypress()\n",
    "window.bind(\"<Key>\", handle_keypress)\n",
    " \n",
    "window.mainloop()"
   ]
  },
  {
   "cell_type": "markdown",
   "id": "197225bc",
   "metadata": {},
   "source": [
    "Здесь обработчик событий handle_keypress() связывается с событием \"<Key>\", используя window.bind(). Если во время работы приложения нажата определенная клавиша, тогда программа выведет символ этой нажатой клавиши."
   ]
  },
  {
   "cell_type": "markdown",
   "id": "7ffc66df",
   "metadata": {},
   "source": [
    "## Атрибут command для виджета кнопки в Tkinter\n",
    "У каждого виджета кнопки есть атрибут command, который привязывает какую либо функцию к данной кнопки. Во время нажатия кнопки функция выполняется.\n",
    "\n",
    "Взглянем на следующий пример. Сначала создается окно с ярлыком который содержит числовое значение. Справа и слева от ярлыка помещаются кнопки. Левая кнопка будет использоваться для уменьшения значения из ярлыка, а вторая кнопка для увеличения значения. Ниже представлен код для окна:"
   ]
  },
  {
   "cell_type": "code",
   "execution_count": 18,
   "id": "be8ce44e",
   "metadata": {},
   "outputs": [],
   "source": [
    "import tkinter as tk\n",
    " \n",
    "window = tk.Tk()\n",
    " \n",
    "window.rowconfigure(0, minsize=50, weight=1)\n",
    "window.columnconfigure([0, 1, 2], minsize=50, weight=1)\n",
    " \n",
    "btn_decrease = tk.Button(master=window, text=\"-\")\n",
    "btn_decrease.grid(row=0, column=0, sticky=\"nsew\")\n",
    " \n",
    "lbl_value = tk.Label(master=window, text=\"0\")\n",
    "lbl_value.grid(row=0, column=1)\n",
    " \n",
    "btn_increase = tk.Button(master=window, text=\"+\")\n",
    "btn_increase.grid(row=0, column=2, sticky=\"nsew\")\n",
    " \n",
    "window.mainloop()"
   ]
  },
  {
   "cell_type": "markdown",
   "id": "cc72dee4",
   "metadata": {},
   "source": [
    "Макет приложения определен, можно вдохнуть в него жизнь, назначив кнопкам определенные команды."
   ]
  },
  {
   "cell_type": "code",
   "execution_count": 23,
   "id": "7a5cc2c6",
   "metadata": {},
   "outputs": [
    {
     "ename": "KeyboardInterrupt",
     "evalue": "",
     "output_type": "error",
     "traceback": [
      "\u001b[1;31m---------------------------------------------------------------------------\u001b[0m",
      "\u001b[1;31mKeyboardInterrupt\u001b[0m                         Traceback (most recent call last)",
      "\u001b[1;32m~\\AppData\\Local\\Temp\\ipykernel_22648\\3265100462.py\u001b[0m in \u001b[0;36m<module>\u001b[1;34m\u001b[0m\n\u001b[0;32m     34\u001b[0m \u001b[0mbtn_increase\u001b[0m\u001b[1;33m.\u001b[0m\u001b[0mgrid\u001b[0m\u001b[1;33m(\u001b[0m\u001b[0mrow\u001b[0m\u001b[1;33m=\u001b[0m\u001b[1;36m0\u001b[0m\u001b[1;33m,\u001b[0m \u001b[0mcolumn\u001b[0m\u001b[1;33m=\u001b[0m\u001b[1;36m2\u001b[0m\u001b[1;33m,\u001b[0m \u001b[0msticky\u001b[0m\u001b[1;33m=\u001b[0m\u001b[1;34m\"nsew\"\u001b[0m\u001b[1;33m)\u001b[0m\u001b[1;33m\u001b[0m\u001b[1;33m\u001b[0m\u001b[0m\n\u001b[0;32m     35\u001b[0m \u001b[1;33m\u001b[0m\u001b[0m\n\u001b[1;32m---> 36\u001b[1;33m \u001b[0mwindow\u001b[0m\u001b[1;33m.\u001b[0m\u001b[0mmainloop\u001b[0m\u001b[1;33m(\u001b[0m\u001b[1;33m)\u001b[0m\u001b[1;33m\u001b[0m\u001b[1;33m\u001b[0m\u001b[0m\n\u001b[0m",
      "\u001b[1;32m~\\anaconda3\\lib\\tkinter\\__init__.py\u001b[0m in \u001b[0;36mmainloop\u001b[1;34m(self, n)\u001b[0m\n\u001b[0;32m   1427\u001b[0m     \u001b[1;32mdef\u001b[0m \u001b[0mmainloop\u001b[0m\u001b[1;33m(\u001b[0m\u001b[0mself\u001b[0m\u001b[1;33m,\u001b[0m \u001b[0mn\u001b[0m\u001b[1;33m=\u001b[0m\u001b[1;36m0\u001b[0m\u001b[1;33m)\u001b[0m\u001b[1;33m:\u001b[0m\u001b[1;33m\u001b[0m\u001b[1;33m\u001b[0m\u001b[0m\n\u001b[0;32m   1428\u001b[0m         \u001b[1;34m\"\"\"Call the mainloop of Tk.\"\"\"\u001b[0m\u001b[1;33m\u001b[0m\u001b[1;33m\u001b[0m\u001b[0m\n\u001b[1;32m-> 1429\u001b[1;33m         \u001b[0mself\u001b[0m\u001b[1;33m.\u001b[0m\u001b[0mtk\u001b[0m\u001b[1;33m.\u001b[0m\u001b[0mmainloop\u001b[0m\u001b[1;33m(\u001b[0m\u001b[0mn\u001b[0m\u001b[1;33m)\u001b[0m\u001b[1;33m\u001b[0m\u001b[1;33m\u001b[0m\u001b[0m\n\u001b[0m\u001b[0;32m   1430\u001b[0m \u001b[1;33m\u001b[0m\u001b[0m\n\u001b[0;32m   1431\u001b[0m     \u001b[1;32mdef\u001b[0m \u001b[0mquit\u001b[0m\u001b[1;33m(\u001b[0m\u001b[0mself\u001b[0m\u001b[1;33m)\u001b[0m\u001b[1;33m:\u001b[0m\u001b[1;33m\u001b[0m\u001b[1;33m\u001b[0m\u001b[0m\n",
      "\u001b[1;31mKeyboardInterrupt\u001b[0m: "
     ]
    }
   ],
   "source": [
    "import tkinter as tk\n",
    " \n",
    "def increase():\n",
    "    value = int(lbl_value[\"text\"])\n",
    "    lbl_value[\"text\"] = f\"{value + 1}\"\n",
    " \n",
    " \n",
    "def decrease():\n",
    "    value = int(lbl_value[\"text\"])\n",
    "    lbl_value[\"text\"] = f\"{value - 1}\"\n",
    " \n",
    "window = tk.Tk()\n",
    " \n",
    "window.rowconfigure(0, minsize=50, weight=1)\n",
    "window.columnconfigure([0, 1, 2], minsize=50, weight=1)\n",
    " \n",
    "btn_decrease = tk.Button(\n",
    "    master=window,\n",
    "    text=\"-\",\n",
    "    command=decrease\n",
    ")\n",
    " \n",
    "btn_decrease.grid(row=0, column=0, sticky=\"nsew\")\n",
    " \n",
    "lbl_value = tk.Label(master=window, text=\"0\")\n",
    "lbl_value.grid(row=0, column=1)\n",
    " \n",
    "btn_increase = tk.Button(\n",
    "    master=window,\n",
    "    text=\"+\",\n",
    "    command=increase\n",
    ")\n",
    " \n",
    "btn_increase.grid(row=0, column=2, sticky=\"nsew\")\n",
    " \n",
    "window.mainloop()"
   ]
  },
  {
   "cell_type": "markdown",
   "id": "f536ba47",
   "metadata": {},
   "source": [
    "## Задание #3 — Бросаем игровые кости в Tkinter\n",
    "\n",
    "Задание: Создать симулятор броска игральных костей.\n",
    "\n",
    "Напишите программу, которая является симулятором результата броска шестигранной игральной кости. В приложении должна быть кнопка с текстом «Бросить». При нажатии на эту кнопку должно генерироваться и выводиться на экран случайное число от 1 до 6.\n",
    "\n",
    "Подсказка: Случайное число можно сгенерировать с помощью randint() из модуля random."
   ]
  },
  {
   "cell_type": "code",
   "execution_count": null,
   "id": "b2d6241e",
   "metadata": {},
   "outputs": [],
   "source": [
    "#ваш код"
   ]
  }
 ],
 "metadata": {
  "kernelspec": {
   "display_name": "Python 3 (ipykernel)",
   "language": "python",
   "name": "python3"
  },
  "language_info": {
   "codemirror_mode": {
    "name": "ipython",
    "version": 3
   },
   "file_extension": ".py",
   "mimetype": "text/x-python",
   "name": "python",
   "nbconvert_exporter": "python",
   "pygments_lexer": "ipython3",
   "version": "3.9.13"
  }
 },
 "nbformat": 4,
 "nbformat_minor": 5
}
