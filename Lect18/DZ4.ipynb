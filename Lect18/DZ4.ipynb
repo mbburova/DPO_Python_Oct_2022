{
 "cells": [
  {
   "cell_type": "markdown",
   "metadata": {},
   "source": [
    "## Домашнее задание 4\n",
    "###  NumPy"
   ]
  },
  {
   "cell_type": "markdown",
   "metadata": {},
   "source": [
    "Дан массив, содержащий баллы слушателей курса по английскому языку за вступительный экзамен. Слушатели распределены по 15 группам по 10 человек."
   ]
  },
  {
   "cell_type": "code",
   "execution_count": 1,
   "metadata": {},
   "outputs": [],
   "source": [
    "import numpy as np\n",
    "scores = np.array([[20, 40, 56, 80, 0, 5, 25, 27, 74, 1],\n",
    "         [0, 98, 67, 100, 8, 56, 34, 82, 100, 7],\n",
    "         [78, 54, 23, 79, 100, 0, 0, 42, 95, 83],\n",
    "         [51, 50, 47, 23, 100, 94, 25, 48, 38, 77],\n",
    "         [90, 87, 41, 89, 52, 0, 5, 17, 28, 99],\n",
    "         [32, 18, 21, 18, 29, 31, 48, 62, 76, 22],\n",
    "         [6, 0, 65, 78, 43, 22, 38, 88, 94, 100],\n",
    "         [77, 28, 39, 41, 0, 81, 45, 54, 98, 12],\n",
    "         [66, 0, 88, 0, 44, 0, 55, 100, 12, 11],\n",
    "         [17, 70, 86, 96, 56, 23, 32, 49, 70, 80],\n",
    "         [20, 24, 76, 50, 29, 40, 3, 2, 5, 11],\n",
    "         [33, 63, 28, 40, 51, 100, 98, 87, 22, 30],\n",
    "         [16, 54, 78, 12, 25, 35, 10, 19, 67, 0],\n",
    "         [100, 88, 24, 33, 47, 56, 62, 34, 77, 53],\n",
    "         [50, 89, 70, 72, 56, 29, 15, 20, 0, 0]])"
   ]
  },
  {
   "cell_type": "markdown",
   "metadata": {},
   "source": [
    "### Задание 1\n",
    "\n",
    "Посчитать, сколько слушателей получили 0 за вступительный экзамен."
   ]
  },
  {
   "cell_type": "code",
   "execution_count": 2,
   "metadata": {},
   "outputs": [
    {
     "name": "stdout",
     "output_type": "stream",
     "text": [
      "13\n"
     ]
    }
   ],
   "source": [
    "### YOUR CODE HERE ###\n",
    "n = 0\n",
    "for i in scores:\n",
    "    for j in i:\n",
    "        if j == 0:\n",
    "            n +=1\n",
    "print(n)"
   ]
  },
  {
   "cell_type": "markdown",
   "metadata": {},
   "source": [
    "### Задание 2\n",
    "\n",
    "Посчитать, сколько слушателей получили балл выше 50."
   ]
  },
  {
   "cell_type": "code",
   "execution_count": 3,
   "metadata": {},
   "outputs": [
    {
     "name": "stdout",
     "output_type": "stream",
     "text": [
      "64\n"
     ]
    }
   ],
   "source": [
    "### YOUR CODE HERE ###\n",
    "n = 0\n",
    "for i in scores:\n",
    "    for j in i:\n",
    "        if j > 50:\n",
    "            n +=1\n",
    "print(n)"
   ]
  },
  {
   "cell_type": "markdown",
   "metadata": {},
   "source": [
    "### Задание 3\n",
    "\n",
    "Посчитать, сколько человек получили балл не ниже 50, но не выше 70."
   ]
  },
  {
   "cell_type": "code",
   "execution_count": 4,
   "metadata": {},
   "outputs": [
    {
     "name": "stdout",
     "output_type": "stream",
     "text": [
      "26\n"
     ]
    }
   ],
   "source": [
    "### YOUR CODE HERE ###\n",
    "n = 0\n",
    "for i in scores:\n",
    "    for j in i:\n",
    "        if (j >= 50 and j <= 70):\n",
    "            n +=1\n",
    "print(n)"
   ]
  },
  {
   "cell_type": "markdown",
   "metadata": {},
   "source": [
    "### Задание 4\n",
    "\n",
    "Определить, в какой группе средний балл за вступительный экзамен выше."
   ]
  },
  {
   "cell_type": "code",
   "execution_count": 5,
   "metadata": {},
   "outputs": [
    {
     "name": "stdout",
     "output_type": "stream",
     "text": [
      "10\n"
     ]
    }
   ],
   "source": [
    "### YOUR CODE HERE ###\n",
    "ag = [i.mean() for i in scores]\n",
    "\n",
    "print(np.array(ag).argmax() + 1) #если группам присвоены номера с 1 по 15 по порядку"
   ]
  },
  {
   "cell_type": "markdown",
   "metadata": {},
   "source": [
    "### Задание 5\n",
    "\n",
    "Сохранить баллы слушателей выше 0 в массив `nonzero`. "
   ]
  },
  {
   "cell_type": "code",
   "execution_count": 6,
   "metadata": {},
   "outputs": [],
   "source": [
    "### YOUR CODE HERE ###\n",
    "n = []\n",
    "for i in scores:\n",
    "    for j in i:\n",
    "        if j > 0:\n",
    "            n.append(j)\n",
    "\n",
    "nonzero = np.array(n)"
   ]
  },
  {
   "cell_type": "markdown",
   "metadata": {},
   "source": [
    "### Задание 6\n",
    "\n",
    "Используя массив `nonzero`, определить минимальный балл за вступительный балл среди всех групп."
   ]
  },
  {
   "cell_type": "code",
   "execution_count": 7,
   "metadata": {},
   "outputs": [
    {
     "data": {
      "text/plain": [
       "1"
      ]
     },
     "execution_count": 7,
     "metadata": {},
     "output_type": "execute_result"
    }
   ],
   "source": [
    "### YOUR CODE HERE ###\n",
    "\n",
    "nonzero.min()"
   ]
  },
  {
   "cell_type": "markdown",
   "metadata": {},
   "source": [
    "### Задание 7\n",
    "\n",
    "Выбрать из массива `nonzero` только те значения, которые соответствуют продвинутому уровню знания языка – баллу за экзамен выше 80. Сохранить полученный результат в массив `advanced`. "
   ]
  },
  {
   "cell_type": "code",
   "execution_count": 8,
   "metadata": {},
   "outputs": [
    {
     "data": {
      "text/plain": [
       "array([ 98, 100,  82, 100, 100,  95,  83, 100,  94,  90,  87,  89,  99,\n",
       "        88,  94, 100,  81,  98,  88, 100,  86,  96, 100,  98,  87, 100,\n",
       "        88,  89])"
      ]
     },
     "execution_count": 8,
     "metadata": {},
     "output_type": "execute_result"
    }
   ],
   "source": [
    "### YOUR CODE HERE ###\n",
    "advanced = np.array([i for i in nonzero if i > 80])\n",
    "advanced"
   ]
  },
  {
   "cell_type": "markdown",
   "metadata": {},
   "source": [
    "### Задание 8\n",
    "\n",
    "Получить из исходного массива `scores` массив медианных оценок по группам."
   ]
  },
  {
   "cell_type": "code",
   "execution_count": 9,
   "metadata": {},
   "outputs": [
    {
     "data": {
      "text/plain": [
       "array([26. , 61.5, 66. , 49. , 46.5, 30. , 54. , 43. , 28. , 63. , 22. ,\n",
       "       45.5, 22. , 54.5, 39.5])"
      ]
     },
     "execution_count": 9,
     "metadata": {},
     "output_type": "execute_result"
    }
   ],
   "source": [
    "### YOUR CODE HERE ###\n",
    "med = np.array([np.median(i) for i in scores])\n",
    "med"
   ]
  },
  {
   "cell_type": "markdown",
   "metadata": {},
   "source": [
    "### Задание 9\n",
    "\n",
    "Перераспределить студентов из `scores` в 10 групп по 15 человек с помощью метода `reshape`. Посчитать среднюю оценку в группе на обновленных данных."
   ]
  },
  {
   "cell_type": "code",
   "execution_count": 10,
   "metadata": {},
   "outputs": [
    {
     "name": "stdout",
     "output_type": "stream",
     "text": [
      "[[ 20  40  56  80   0   5  25  27  74   1   0  98  67 100   8]\n",
      " [ 56  34  82 100   7  78  54  23  79 100   0   0  42  95  83]\n",
      " [ 51  50  47  23 100  94  25  48  38  77  90  87  41  89  52]\n",
      " [  0   5  17  28  99  32  18  21  18  29  31  48  62  76  22]\n",
      " [  6   0  65  78  43  22  38  88  94 100  77  28  39  41   0]\n",
      " [ 81  45  54  98  12  66   0  88   0  44   0  55 100  12  11]\n",
      " [ 17  70  86  96  56  23  32  49  70  80  20  24  76  50  29]\n",
      " [ 40   3   2   5  11  33  63  28  40  51 100  98  87  22  30]\n",
      " [ 16  54  78  12  25  35  10  19  67   0 100  88  24  33  47]\n",
      " [ 56  62  34  77  53  50  89  70  72  56  29  15  20   0   0]]\n"
     ]
    },
    {
     "data": {
      "text/plain": [
       "array([40.06666667, 55.53333333, 60.8       , 33.73333333, 47.93333333,\n",
       "       44.4       , 51.86666667, 40.86666667, 40.53333333, 45.53333333])"
      ]
     },
     "execution_count": 10,
     "metadata": {},
     "output_type": "execute_result"
    }
   ],
   "source": [
    "### YOUR CODE HERE ###а\n",
    "new = scores.reshape(10, 15)\n",
    "print(new)    \n",
    "ag = np.array([i.mean() for i in new])\n",
    "ag"
   ]
  },
  {
   "cell_type": "markdown",
   "metadata": {},
   "source": [
    "### Задание 10\n",
    "\n",
    "Определить общее число элементов в массиве `advanced`."
   ]
  },
  {
   "cell_type": "code",
   "execution_count": 11,
   "metadata": {},
   "outputs": [
    {
     "data": {
      "text/plain": [
       "28"
      ]
     },
     "execution_count": 11,
     "metadata": {},
     "output_type": "execute_result"
    }
   ],
   "source": [
    "### YOUR CODE HERE ###\n",
    "advanced.size"
   ]
  },
  {
   "cell_type": "markdown",
   "metadata": {},
   "source": [
    "### Задание 11\n",
    "\n",
    "На основе исходного массива `scores` создать булев массив `sto`, где `True` соответствует баллам за экзамен, равным 100, а `False` – всем остальным баллам. "
   ]
  },
  {
   "cell_type": "code",
   "execution_count": 12,
   "metadata": {},
   "outputs": [
    {
     "data": {
      "text/plain": [
       "array([[False, False, False, False, False, False, False, False, False,\n",
       "        False],\n",
       "       [False, False, False,  True, False, False, False, False,  True,\n",
       "        False],\n",
       "       [False, False, False, False,  True, False, False, False, False,\n",
       "        False],\n",
       "       [False, False, False, False,  True, False, False, False, False,\n",
       "        False],\n",
       "       [False, False, False, False, False, False, False, False, False,\n",
       "        False],\n",
       "       [False, False, False, False, False, False, False, False, False,\n",
       "        False],\n",
       "       [False, False, False, False, False, False, False, False, False,\n",
       "         True],\n",
       "       [False, False, False, False, False, False, False, False, False,\n",
       "        False],\n",
       "       [False, False, False, False, False, False, False,  True, False,\n",
       "        False],\n",
       "       [False, False, False, False, False, False, False, False, False,\n",
       "        False],\n",
       "       [False, False, False, False, False, False, False, False, False,\n",
       "        False],\n",
       "       [False, False, False, False, False,  True, False, False, False,\n",
       "        False],\n",
       "       [False, False, False, False, False, False, False, False, False,\n",
       "        False],\n",
       "       [ True, False, False, False, False, False, False, False, False,\n",
       "        False],\n",
       "       [False, False, False, False, False, False, False, False, False,\n",
       "        False]])"
      ]
     },
     "execution_count": 12,
     "metadata": {},
     "output_type": "execute_result"
    }
   ],
   "source": [
    "### YOUR CODE HERE ###\n",
    "scores == 100"
   ]
  },
  {
   "cell_type": "markdown",
   "metadata": {},
   "source": [
    "### Задание 12\n",
    "\n",
    "На основе исходного массива `scores` вывести на экран оценки слушателей первых семи групп (включительно, должны быть 7 списков оценок)."
   ]
  },
  {
   "cell_type": "code",
   "execution_count": 13,
   "metadata": {},
   "outputs": [
    {
     "name": "stdout",
     "output_type": "stream",
     "text": [
      "[[ 20  40  56  80   0   5  25  27  74   1]\n",
      " [  0  98  67 100   8  56  34  82 100   7]\n",
      " [ 78  54  23  79 100   0   0  42  95  83]\n",
      " [ 51  50  47  23 100  94  25  48  38  77]\n",
      " [ 90  87  41  89  52   0   5  17  28  99]\n",
      " [ 32  18  21  18  29  31  48  62  76  22]\n",
      " [  6   0  65  78  43  22  38  88  94 100]]\n"
     ]
    }
   ],
   "source": [
    "### YOUR CODE HERE ###\n",
    "print(scores[:7])"
   ]
  }
 ],
 "metadata": {
  "kernelspec": {
   "display_name": "Python 3 (ipykernel)",
   "language": "python",
   "name": "python3"
  },
  "language_info": {
   "codemirror_mode": {
    "name": "ipython",
    "version": 3
   },
   "file_extension": ".py",
   "mimetype": "text/x-python",
   "name": "python",
   "nbconvert_exporter": "python",
   "pygments_lexer": "ipython3",
   "version": "3.9.13"
  }
 },
 "nbformat": 4,
 "nbformat_minor": 2
}
