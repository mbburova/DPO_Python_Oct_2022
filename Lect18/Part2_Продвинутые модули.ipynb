{
 "cells": [
  {
   "cell_type": "markdown",
   "id": "754c39f8",
   "metadata": {},
   "source": [
    "# Модуль Collections\n",
    "\n",
    "Модуль collections - это встроенный модуль, который реализует специальные типы данных контейнеров. Они являются альтернативой для встроенных контейнеров Python общего назначения. Мы уже изучили основы: словари dict, списки list, множества set и кортежи tuple.\n",
    "\n",
    "Теперь давайте посмотрим, какие альтернативы предоставляет модуль collections.\n",
    "\n",
    "## Counter\n",
    "\n",
    "*Counter* - это подкласс *dict*, который помогает считать хэшируемые объекты. Внутри него элементы хранятся как ключи словаря, а количество элементов хранится как значение.\n",
    "\n",
    "Посмотрим, как можно использовать этот подкласс:"
   ]
  },
  {
   "cell_type": "code",
   "execution_count": 1,
   "id": "10c56ce3",
   "metadata": {},
   "outputs": [],
   "source": [
    "from collections import Counter"
   ]
  },
  {
   "cell_type": "markdown",
   "id": "a0c87d3a",
   "metadata": {},
   "source": [
    "**Counter() со списком**"
   ]
  },
  {
   "cell_type": "code",
   "execution_count": 2,
   "id": "454a8fe8",
   "metadata": {},
   "outputs": [
    {
     "data": {
      "text/plain": [
       "Counter({1: 6, 2: 6, 3: 4, 12: 1, 32: 1, 21: 1, 223: 1})"
      ]
     },
     "execution_count": 2,
     "metadata": {},
     "output_type": "execute_result"
    }
   ],
   "source": [
    "lst = [1,2,2,2,2,3,3,3,1,2,1,12,3,2,32,1,21,1,223,1]\n",
    "\n",
    "Counter(lst)"
   ]
  },
  {
   "cell_type": "markdown",
   "id": "2f37333d",
   "metadata": {},
   "source": [
    "**Counter со строкой**"
   ]
  },
  {
   "cell_type": "code",
   "execution_count": 3,
   "id": "6e3b8b82",
   "metadata": {},
   "outputs": [
    {
     "data": {
      "text/plain": [
       "Counter({'a': 2, 'b': 7, 's': 6, 'h': 3})"
      ]
     },
     "execution_count": 3,
     "metadata": {},
     "output_type": "execute_result"
    }
   ],
   "source": [
    "Counter('aabsbsbsbhshhbbsbs')"
   ]
  },
  {
   "cell_type": "markdown",
   "id": "be7b9b07",
   "metadata": {},
   "source": [
    "**Counter со словами в предложении**"
   ]
  },
  {
   "cell_type": "code",
   "execution_count": 4,
   "id": "976e01c6",
   "metadata": {},
   "outputs": [
    {
     "data": {
      "text/plain": [
       "Counter({'сколько': 3,\n",
       "         'раз': 2,\n",
       "         'каждое': 1,\n",
       "         'слово': 1,\n",
       "         'встречается': 1,\n",
       "         'в': 1,\n",
       "         'этом': 1,\n",
       "         'предложении': 1})"
      ]
     },
     "execution_count": 4,
     "metadata": {},
     "output_type": "execute_result"
    }
   ],
   "source": [
    "s = 'сколько раз каждое слово встречается в этом предложении сколько сколько раз'\n",
    "\n",
    "words = s.split()\n",
    "\n",
    "Counter(words)"
   ]
  },
  {
   "cell_type": "code",
   "execution_count": 5,
   "id": "066afece",
   "metadata": {},
   "outputs": [
    {
     "data": {
      "text/plain": [
       "[('сколько', 3), ('раз', 2)]"
      ]
     },
     "execution_count": 5,
     "metadata": {},
     "output_type": "execute_result"
    }
   ],
   "source": [
    "# Методы Counter() - наиболее часто встречающиеся элементы\n",
    "c = Counter(words)\n",
    "\n",
    "c.most_common(2)"
   ]
  },
  {
   "cell_type": "markdown",
   "id": "9283e826",
   "metadata": {},
   "source": [
    "## defaultdict\n",
    "\n",
    "defaultdict это объект, который выглядит как словарь. Он предоставляет все те же методы, что и словарь, но defaultdict работает быстрее\n",
    "\n",
    "**defaultdict никогда не вызывает ошибку KeyError. Любой ключ, который не существует, получает значение, которое возвращает default factory.**"
   ]
  },
  {
   "cell_type": "code",
   "execution_count": 7,
   "id": "a9a479e6",
   "metadata": {},
   "outputs": [],
   "source": [
    "from collections import defaultdict"
   ]
  },
  {
   "cell_type": "code",
   "execution_count": 8,
   "id": "5575d871",
   "metadata": {},
   "outputs": [],
   "source": [
    "d = {}"
   ]
  },
  {
   "cell_type": "code",
   "execution_count": 9,
   "id": "898caa5c",
   "metadata": {},
   "outputs": [
    {
     "ename": "KeyError",
     "evalue": "'one'",
     "output_type": "error",
     "traceback": [
      "\u001b[1;31m---------------------------------------------------------------------------\u001b[0m",
      "\u001b[1;31mKeyError\u001b[0m                                  Traceback (most recent call last)",
      "\u001b[1;32m~\\AppData\\Local\\Temp/ipykernel_14600/950400381.py\u001b[0m in \u001b[0;36m<module>\u001b[1;34m\u001b[0m\n\u001b[1;32m----> 1\u001b[1;33m \u001b[0md\u001b[0m\u001b[1;33m[\u001b[0m\u001b[1;34m'one'\u001b[0m\u001b[1;33m]\u001b[0m\u001b[1;33m\u001b[0m\u001b[1;33m\u001b[0m\u001b[0m\n\u001b[0m",
      "\u001b[1;31mKeyError\u001b[0m: 'one'"
     ]
    }
   ],
   "source": [
    "d['one'] "
   ]
  },
  {
   "cell_type": "code",
   "execution_count": 10,
   "id": "d0ffd3aa",
   "metadata": {},
   "outputs": [],
   "source": [
    "d  = defaultdict(object)"
   ]
  },
  {
   "cell_type": "code",
   "execution_count": 14,
   "id": "32bc45c1",
   "metadata": {},
   "outputs": [
    {
     "data": {
      "text/plain": [
       "0"
      ]
     },
     "execution_count": 14,
     "metadata": {},
     "output_type": "execute_result"
    }
   ],
   "source": [
    "d['one'] "
   ]
  },
  {
   "cell_type": "code",
   "execution_count": 12,
   "id": "d97f07d9",
   "metadata": {},
   "outputs": [
    {
     "name": "stdout",
     "output_type": "stream",
     "text": [
      "one\n"
     ]
    }
   ],
   "source": [
    "for item in d:\n",
    "    print(item)"
   ]
  },
  {
   "cell_type": "markdown",
   "id": "9999e92b",
   "metadata": {},
   "source": [
    "Можно также создавать объект с указанием значения по умолчанию:"
   ]
  },
  {
   "cell_type": "code",
   "execution_count": 15,
   "id": "7cfa138c",
   "metadata": {},
   "outputs": [],
   "source": [
    "d = defaultdict(lambda: 0)"
   ]
  },
  {
   "cell_type": "code",
   "execution_count": 16,
   "id": "84b07a19",
   "metadata": {},
   "outputs": [
    {
     "data": {
      "text/plain": [
       "0"
      ]
     },
     "execution_count": 16,
     "metadata": {},
     "output_type": "execute_result"
    }
   ],
   "source": [
    "d['one']"
   ]
  },
  {
   "cell_type": "markdown",
   "id": "56a9596b",
   "metadata": {},
   "source": [
    "## OrderedDict\n",
    "OrderedDict это подкласс словаря, который запоминает порядок, в котором добавляются элементы.\n",
    "\n",
    "Например, рассмотрим обычный словарь:"
   ]
  },
  {
   "cell_type": "code",
   "execution_count": 17,
   "id": "e6e933ea",
   "metadata": {},
   "outputs": [
    {
     "name": "stdout",
     "output_type": "stream",
     "text": [
      "Обычный словарь:\n",
      "a A\n",
      "b B\n",
      "c C\n",
      "d D\n",
      "e E\n"
     ]
    }
   ],
   "source": [
    "print('Обычный словарь:')\n",
    "\n",
    "d = {}\n",
    "\n",
    "d['a'] = 'A'\n",
    "d['b'] = 'B'\n",
    "d['c'] = 'C'\n",
    "d['d'] = 'D'\n",
    "d['e'] = 'E'\n",
    "\n",
    "\n",
    "for k, v in d.items():\n",
    "    print(k, v)"
   ]
  },
  {
   "cell_type": "markdown",
   "id": "100a4024",
   "metadata": {},
   "source": [
    "Упорядоченный словарь:"
   ]
  },
  {
   "cell_type": "code",
   "execution_count": 18,
   "id": "563e8bd5",
   "metadata": {},
   "outputs": [
    {
     "name": "stdout",
     "output_type": "stream",
     "text": [
      "OrderedDict:\n",
      "a A\n",
      "b B\n",
      "c C\n",
      "d D\n",
      "e E\n"
     ]
    }
   ],
   "source": [
    "from collections import OrderedDict\n",
    "\n",
    "print('OrderedDict:')\n",
    "\n",
    "d = OrderedDict()\n",
    "\n",
    "d['a'] = 'A'\n",
    "d['b'] = 'B'\n",
    "d['c'] = 'C'\n",
    "d['d'] = 'D'\n",
    "d['e'] = 'E'\n",
    "\n",
    "\n",
    "for k, v in d.items():\n",
    "    print(k, v)"
   ]
  },
  {
   "cell_type": "markdown",
   "id": "a6f6c2de",
   "metadata": {},
   "source": [
    "## Сравнение упорядоченных словарей\n",
    "Обычный словарь при сравнении с другим словарём проверяет только содержание элементов. Упорядоченный словарь OrderedDict также учитывает порядок, в котором элементы были добавлены.\n",
    "\n",
    "Обычный словарь:"
   ]
  },
  {
   "cell_type": "code",
   "execution_count": 19,
   "id": "d954b84f",
   "metadata": {},
   "outputs": [
    {
     "name": "stdout",
     "output_type": "stream",
     "text": [
      "Являются ли словари одинаковыми?\n",
      "True\n"
     ]
    }
   ],
   "source": [
    "print('Являются ли словари одинаковыми?')\n",
    "\n",
    "d1 = {}\n",
    "d1['a'] = 'A'\n",
    "d1['b'] = 'B'\n",
    "\n",
    "d2 = {}\n",
    "d2['b'] = 'B'\n",
    "d2['a'] = 'A'\n",
    "\n",
    "print(d1==d2)"
   ]
  },
  {
   "cell_type": "markdown",
   "id": "03f40a59",
   "metadata": {},
   "source": [
    "An Ordered Dictionary:"
   ]
  },
  {
   "cell_type": "code",
   "execution_count": 20,
   "id": "b62d617c",
   "metadata": {},
   "outputs": [
    {
     "name": "stdout",
     "output_type": "stream",
     "text": [
      "Являются ли словари одинаковыми?\n",
      "False\n"
     ]
    }
   ],
   "source": [
    "print('Являются ли словари одинаковыми?')\n",
    "\n",
    "d1 = OrderedDict()\n",
    "d1['a'] = 'A'\n",
    "d1['b'] = 'B'\n",
    "\n",
    "\n",
    "d2 = OrderedDict()\n",
    "\n",
    "d2['b'] = 'B'\n",
    "d2['a'] = 'A'\n",
    "\n",
    "print(d1==d2)"
   ]
  },
  {
   "cell_type": "markdown",
   "id": "6fe41417",
   "metadata": {},
   "source": [
    "# namedtuple - именованный кортеж\n",
    "Стандартный кортеж использует числовые индексы для доступа к его элементам, например:"
   ]
  },
  {
   "cell_type": "code",
   "execution_count": 21,
   "id": "9e91eaca",
   "metadata": {},
   "outputs": [],
   "source": [
    "t = (12,13,14)"
   ]
  },
  {
   "cell_type": "code",
   "execution_count": 22,
   "id": "bdc7453a",
   "metadata": {},
   "outputs": [
    {
     "data": {
      "text/plain": [
       "12"
      ]
     },
     "execution_count": 22,
     "metadata": {},
     "output_type": "execute_result"
    }
   ],
   "source": [
    "t[0]"
   ]
  },
  {
   "cell_type": "markdown",
   "id": "f0877d71",
   "metadata": {},
   "source": [
    "В простых случаях этого обычно достаточно. С другой стороны, всё время помнить, какой номер отвечает за какое значение - неудобно, и может приводить к ошибкам, особенно если кортеж содержит много полей и был создан далеко от того места, где он будет использоваться. В таких случаях полезен namedtuple - он назначает элементами не только номера, но и названия. \n",
    "\n",
    "Каждый вид именованного кортежа представлен своим собственным классом, который создается с помощью функции namedtuple(). Параметры - это название нового класса, и строка с названиями элементов.\n",
    "\n",
    "По сути можно представить себе именованные кортежи как быстрый способ создания нового типа объекта/класса с некоторыми атрибутами.\n",
    "Например:"
   ]
  },
  {
   "cell_type": "code",
   "execution_count": 23,
   "id": "2c4852df",
   "metadata": {},
   "outputs": [],
   "source": [
    "from collections import namedtuple"
   ]
  },
  {
   "cell_type": "code",
   "execution_count": 24,
   "id": "aecb3b2f",
   "metadata": {},
   "outputs": [],
   "source": [
    "Dog = namedtuple('Dog','age breed name')\n",
    "\n",
    "sam = Dog(age=2,breed='Lab',name='Sammy')\n",
    "\n",
    "frank = Dog(age=2,breed='Shepard',name=\"Frankie\")"
   ]
  },
  {
   "cell_type": "markdown",
   "id": "63cdd534",
   "metadata": {},
   "source": [
    "Мы создаем именованный кортеж, сначала передавая название типа объекта (Dog), и затем передаём набор полей в виде строки, в которой названия полей разделены пробелами. Далее мы можем использовать различные атрибуты:"
   ]
  },
  {
   "cell_type": "code",
   "execution_count": 25,
   "id": "d2278f5c",
   "metadata": {},
   "outputs": [
    {
     "data": {
      "text/plain": [
       "Dog(age=2, breed='Lab', name='Sammy')"
      ]
     },
     "execution_count": 25,
     "metadata": {},
     "output_type": "execute_result"
    }
   ],
   "source": [
    "sam"
   ]
  },
  {
   "cell_type": "code",
   "execution_count": 26,
   "id": "02b5153a",
   "metadata": {},
   "outputs": [
    {
     "data": {
      "text/plain": [
       "2"
      ]
     },
     "execution_count": 26,
     "metadata": {},
     "output_type": "execute_result"
    }
   ],
   "source": [
    "sam.age"
   ]
  },
  {
   "cell_type": "code",
   "execution_count": 27,
   "id": "37728231",
   "metadata": {},
   "outputs": [
    {
     "data": {
      "text/plain": [
       "'Lab'"
      ]
     },
     "execution_count": 27,
     "metadata": {},
     "output_type": "execute_result"
    }
   ],
   "source": [
    "sam.breed"
   ]
  },
  {
   "cell_type": "code",
   "execution_count": 28,
   "id": "b0e98bce",
   "metadata": {},
   "outputs": [
    {
     "data": {
      "text/plain": [
       "2"
      ]
     },
     "execution_count": 28,
     "metadata": {},
     "output_type": "execute_result"
    }
   ],
   "source": [
    "sam[0]"
   ]
  },
  {
   "cell_type": "markdown",
   "id": "885f2277",
   "metadata": {},
   "source": [
    "# datetime\n",
    "\n",
    "В Python есть модуль datetime для работы с датой и временем. Значения времени представлены классом time. Время имеет атрибуты для часов, минут, секунд и микросекунд. А также информацию о часовом поясе. Параметры для инициализации экземпляра time являются необязательными, но значение по умолчанию 0 это скорее всего не то, что Вы хотите.\n",
    "\n",
    "## time - время\n",
    "Давайте посмотрим, как мы можем извлечь информацию из модуля datetime. Мы можем создать значение timestamp (дата-время), указав datetime.time(hour,minute,second,microsecond)"
   ]
  },
  {
   "cell_type": "code",
   "execution_count": 29,
   "id": "8e7757b7",
   "metadata": {},
   "outputs": [
    {
     "name": "stdout",
     "output_type": "stream",
     "text": [
      "04:20:01\n",
      "hour  : 4\n",
      "minute: 20\n",
      "second: 1\n",
      "microsecond: 0\n",
      "tzinfo: None\n"
     ]
    }
   ],
   "source": [
    "import datetime\n",
    "\n",
    "t = datetime.time(4, 20, 1)\n",
    "\n",
    "# выведем отдельные компоненты\n",
    "print(t)\n",
    "print('hour  :', t.hour)\n",
    "print('minute:', t.minute)\n",
    "print('second:', t.second)\n",
    "print('microsecond:', t.microsecond)\n",
    "print('tzinfo:', t.tzinfo)"
   ]
  },
  {
   "cell_type": "markdown",
   "id": "677016bb",
   "metadata": {},
   "source": [
    "Замечание: экземпляр time содержит только значения времени, и не содержит дату. \n",
    "\n",
    "Также мы можем посмотреть в модуле минимальные и максимальные значения времени, которые может содержать день:"
   ]
  },
  {
   "cell_type": "code",
   "execution_count": 30,
   "id": "c292bf46",
   "metadata": {},
   "outputs": [
    {
     "name": "stdout",
     "output_type": "stream",
     "text": [
      "Earliest  : 00:00:00\n",
      "Latest    : 23:59:59.999999\n",
      "Resolution: 0:00:00.000001\n"
     ]
    }
   ],
   "source": [
    "print('Earliest  :', datetime.time.min)\n",
    "print('Latest    :', datetime.time.max)\n",
    "print('Resolution:', datetime.time.resolution)"
   ]
  },
  {
   "cell_type": "markdown",
   "id": "061b14d2",
   "metadata": {},
   "source": [
    "Атрибуты min и max отражают диапазон значений внутри одного дня."
   ]
  },
  {
   "cell_type": "markdown",
   "id": "e84c61d4",
   "metadata": {},
   "source": [
    "## Dates - даты\n",
    "datetime (как следует из названия) также позволяет работать со значениями дата-время. Значения календарных дат представлены классом date. Экземпляры содержат атрибуты для года, месяца и дня. Можно легко создать дату для сегодняшнего дня, используя метод today().\n",
    "\n",
    "Рассмотрим несколько примеров:"
   ]
  },
  {
   "cell_type": "code",
   "execution_count": 31,
   "id": "56d99bdb",
   "metadata": {},
   "outputs": [
    {
     "name": "stdout",
     "output_type": "stream",
     "text": [
      "2022-07-20\n",
      "ctime: Wed Jul 20 00:00:00 2022\n",
      "tuple: time.struct_time(tm_year=2022, tm_mon=7, tm_mday=20, tm_hour=0, tm_min=0, tm_sec=0, tm_wday=2, tm_yday=201, tm_isdst=-1)\n",
      "ordinal: 738356\n",
      "Year : 2022\n",
      "Month: 7\n",
      "Day  : 20\n"
     ]
    }
   ],
   "source": [
    "today = datetime.date.today()\n",
    "print(today)\n",
    "print('ctime:', today.ctime())\n",
    "print('tuple:', today.timetuple())\n",
    "print('ordinal:', today.toordinal())\n",
    "print('Year :', today.year)\n",
    "print('Month:', today.month)\n",
    "print('Day  :', today.day)"
   ]
  },
  {
   "cell_type": "markdown",
   "id": "afa6440f",
   "metadata": {},
   "source": [
    "Как и для времени, для дат можно посмотреть доступный диапазон с помощью атрибутов min и max."
   ]
  },
  {
   "cell_type": "code",
   "execution_count": 32,
   "id": "a493e0d8",
   "metadata": {},
   "outputs": [
    {
     "name": "stdout",
     "output_type": "stream",
     "text": [
      "Earliest  : 0001-01-01\n",
      "Latest    : 9999-12-31\n",
      "Resolution: 1 day, 0:00:00\n"
     ]
    }
   ],
   "source": [
    "print('Earliest  :', datetime.date.min)\n",
    "print('Latest    :', datetime.date.max)\n",
    "print('Resolution:', datetime.date.resolution)"
   ]
  },
  {
   "cell_type": "markdown",
   "id": "ec87abf6",
   "metadata": {},
   "source": [
    "Другой способ создания новых экземпляров date - это использование метода replace() для существующей даты. Например, можно поменять год, оставив день и месяц без изменений."
   ]
  },
  {
   "cell_type": "code",
   "execution_count": 33,
   "id": "af5d2d39",
   "metadata": {},
   "outputs": [
    {
     "name": "stdout",
     "output_type": "stream",
     "text": [
      "d1: 2015-03-11\n",
      "d2: 1990-03-11\n"
     ]
    }
   ],
   "source": [
    "d1 = datetime.date(2015, 3, 11)\n",
    "print('d1:', d1)\n",
    "\n",
    "d2 = d1.replace(year=1990)\n",
    "print('d2:', d2)"
   ]
  },
  {
   "cell_type": "markdown",
   "id": "875d066e",
   "metadata": {},
   "source": [
    "# Арифметика\n",
    "Для дат можно выполнять вычисления, чтобы вычислить разницу времени. Например:"
   ]
  },
  {
   "cell_type": "code",
   "execution_count": 34,
   "id": "c576d549",
   "metadata": {},
   "outputs": [
    {
     "data": {
      "text/plain": [
       "datetime.date(2015, 3, 11)"
      ]
     },
     "execution_count": 34,
     "metadata": {},
     "output_type": "execute_result"
    }
   ],
   "source": [
    "d1"
   ]
  },
  {
   "cell_type": "code",
   "execution_count": 35,
   "id": "fd6a859a",
   "metadata": {},
   "outputs": [
    {
     "data": {
      "text/plain": [
       "datetime.date(1990, 3, 11)"
      ]
     },
     "execution_count": 35,
     "metadata": {},
     "output_type": "execute_result"
    }
   ],
   "source": [
    "d2"
   ]
  },
  {
   "cell_type": "code",
   "execution_count": 36,
   "id": "19ddcccc",
   "metadata": {},
   "outputs": [
    {
     "data": {
      "text/plain": [
       "datetime.timedelta(days=9131)"
      ]
     },
     "execution_count": 36,
     "metadata": {},
     "output_type": "execute_result"
    }
   ],
   "source": [
    "d1-d2"
   ]
  },
  {
   "cell_type": "markdown",
   "id": "d39138b2",
   "metadata": {},
   "source": [
    "Так мы получаем разницу между двумя датами, в днях. Также можно использовать метод timedelta для различных единиц изменения времени (дни, минуты, часы и т.д.)\n",
    "\n",
    "Отлично! Теперь у Вас есть базовые значения о том, как использовать datetime в Python для работы с датой и временем в Вашем коде!"
   ]
  },
  {
   "cell_type": "markdown",
   "id": "145d26c9",
   "metadata": {},
   "source": [
    "# Отладчик - Python Debugger\n",
    "\n",
    "Чтобы найти ошибки в Вашем коде, Вы скорее всего использовали множество команд print. Есть лучший способ - использование встроенного в Python модуля debugger (pdb). Модуль pdb реализует интерактивную среду отладки для программ Python. Он позволяет Вам поставить программу на паузу, посмотреть значения переменных, и увидеть выполнение Вашей программы шаг за шагом, чтобы Вы могли понять, что именно делает Ваша программа, и найти ошибку в логике.\n",
    "\n",
    "Это немного сложно показать, поскольку нам придется специально сделать ошибку, но надеюсь что этот простой пример покажет возможности модуля pdb. \n",
    "___\n",
    "Здесь мы намеренно сделаем ошибку, пытаясь сложить список и число"
   ]
  },
  {
   "cell_type": "code",
   "execution_count": 1,
   "id": "3768cf63",
   "metadata": {},
   "outputs": [
    {
     "name": "stdout",
     "output_type": "stream",
     "text": [
      "5\n"
     ]
    },
    {
     "ename": "TypeError",
     "evalue": "unsupported operand type(s) for +: 'int' and 'list'",
     "output_type": "error",
     "traceback": [
      "\u001b[1;31m---------------------------------------------------------------------------\u001b[0m",
      "\u001b[1;31mTypeError\u001b[0m                                 Traceback (most recent call last)",
      "\u001b[1;32m~\\AppData\\Local\\Temp\\ipykernel_12576\\2870014791.py\u001b[0m in \u001b[0;36m<module>\u001b[1;34m\u001b[0m\n\u001b[0;32m      5\u001b[0m \u001b[0mresult\u001b[0m \u001b[1;33m=\u001b[0m \u001b[0my\u001b[0m \u001b[1;33m+\u001b[0m \u001b[0mz\u001b[0m\u001b[1;33m\u001b[0m\u001b[1;33m\u001b[0m\u001b[0m\n\u001b[0;32m      6\u001b[0m \u001b[0mprint\u001b[0m\u001b[1;33m(\u001b[0m\u001b[0mresult\u001b[0m\u001b[1;33m)\u001b[0m\u001b[1;33m\u001b[0m\u001b[1;33m\u001b[0m\u001b[0m\n\u001b[1;32m----> 7\u001b[1;33m \u001b[0mresult2\u001b[0m \u001b[1;33m=\u001b[0m \u001b[0my\u001b[0m\u001b[1;33m+\u001b[0m\u001b[0mx\u001b[0m\u001b[1;33m\u001b[0m\u001b[1;33m\u001b[0m\u001b[0m\n\u001b[0m\u001b[0;32m      8\u001b[0m \u001b[0mprint\u001b[0m\u001b[1;33m(\u001b[0m\u001b[0mresult2\u001b[0m\u001b[1;33m)\u001b[0m\u001b[1;33m\u001b[0m\u001b[1;33m\u001b[0m\u001b[0m\n",
      "\u001b[1;31mTypeError\u001b[0m: unsupported operand type(s) for +: 'int' and 'list'"
     ]
    }
   ],
   "source": [
    "x = [1,3,4]\n",
    "y = 2\n",
    "z = 3\n",
    "\n",
    "result = y + z\n",
    "print(result)\n",
    "result2 = y+x\n",
    "print(result2)"
   ]
  },
  {
   "cell_type": "markdown",
   "id": "3a0f5bb7",
   "metadata": {},
   "source": [
    "Хм, кажется мы получили ошибку! Давайте применим set_trace(), используя модуль pdb. Это позволит нам сделать паузу в указанной точке, и посмотреть что там происходит."
   ]
  },
  {
   "cell_type": "code",
   "execution_count": 2,
   "id": "eb8ce4e5",
   "metadata": {},
   "outputs": [
    {
     "name": "stdout",
     "output_type": "stream",
     "text": [
      "5\n",
      "--Return--\n",
      "None\n",
      "> \u001b[1;32mc:\\users\\mbbur\\appdata\\local\\temp\\ipykernel_12576\\1419980936.py\u001b[0m(11)\u001b[0;36m<module>\u001b[1;34m()\u001b[0m\n",
      "\n",
      "ipdb> y\n",
      "2\n",
      "ipdb> x\n",
      "[1, 3, 4]\n",
      "ipdb> \n",
      "[1, 3, 4]\n",
      "ipdb> end\n",
      "*** NameError: name 'end' is not defined\n",
      "--KeyboardInterrupt--\n",
      "\n",
      "KeyboardInterrupt: Interrupted by user\n"
     ]
    },
    {
     "ename": "TypeError",
     "evalue": "unsupported operand type(s) for +: 'int' and 'list'",
     "output_type": "error",
     "traceback": [
      "\u001b[1;31m---------------------------------------------------------------------------\u001b[0m",
      "\u001b[1;31mTypeError\u001b[0m                                 Traceback (most recent call last)",
      "\u001b[1;32m~\\AppData\\Local\\Temp\\ipykernel_12576\\1419980936.py\u001b[0m in \u001b[0;36m<module>\u001b[1;34m\u001b[0m\n\u001b[0;32m     11\u001b[0m \u001b[0mpdb\u001b[0m\u001b[1;33m.\u001b[0m\u001b[0mset_trace\u001b[0m\u001b[1;33m(\u001b[0m\u001b[1;33m)\u001b[0m\u001b[1;33m\u001b[0m\u001b[1;33m\u001b[0m\u001b[0m\n\u001b[0;32m     12\u001b[0m \u001b[1;33m\u001b[0m\u001b[0m\n\u001b[1;32m---> 13\u001b[1;33m \u001b[0mresult2\u001b[0m \u001b[1;33m=\u001b[0m \u001b[0my\u001b[0m\u001b[1;33m+\u001b[0m\u001b[0mx\u001b[0m\u001b[1;33m\u001b[0m\u001b[1;33m\u001b[0m\u001b[0m\n\u001b[0m\u001b[0;32m     14\u001b[0m \u001b[0mprint\u001b[0m\u001b[1;33m(\u001b[0m\u001b[0mresult2\u001b[0m\u001b[1;33m)\u001b[0m\u001b[1;33m\u001b[0m\u001b[1;33m\u001b[0m\u001b[0m\n",
      "\u001b[1;31mTypeError\u001b[0m: unsupported operand type(s) for +: 'int' and 'list'"
     ]
    }
   ],
   "source": [
    "import pdb\n",
    "\n",
    "x = [1,3,4]\n",
    "y = 2\n",
    "z = 3\n",
    "\n",
    "result = y + z\n",
    "print(result)\n",
    "\n",
    "# Set a trace using Python Debugger\n",
    "pdb.set_trace()\n",
    "\n",
    "result2 = y+x\n",
    "print(result2)"
   ]
  },
  {
   "cell_type": "markdown",
   "id": "07fc3579",
   "metadata": {},
   "source": [
    "Отлично! Теперь Вы можете посмотреть, какими были значения переменных, и найти причину ошибки. Для выхода из отладчика используется 'q'. Более подробно об общих подходах к отладке и других методах, можно почитать в официальной документации:\n",
    "https://docs.python.org/3/library/pdb.html"
   ]
  },
  {
   "cell_type": "code",
   "execution_count": null,
   "id": "0fdcc80c",
   "metadata": {},
   "outputs": [],
   "source": []
  }
 ],
 "metadata": {
  "kernelspec": {
   "display_name": "Python 3 (ipykernel)",
   "language": "python",
   "name": "python3"
  },
  "language_info": {
   "codemirror_mode": {
    "name": "ipython",
    "version": 3
   },
   "file_extension": ".py",
   "mimetype": "text/x-python",
   "name": "python",
   "nbconvert_exporter": "python",
   "pygments_lexer": "ipython3",
   "version": "3.9.13"
  }
 },
 "nbformat": 4,
 "nbformat_minor": 5
}
